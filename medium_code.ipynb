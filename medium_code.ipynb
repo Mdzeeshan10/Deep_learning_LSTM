{
 "cells": [
  {
   "cell_type": "code",
   "execution_count": 17,
   "metadata": {},
   "outputs": [],
   "source": [
    "import pandas as pd\n",
    "import openai\n",
    "import json\n",
    "from azure.core.credentials import AzureKeyCredential\n",
    "from azure.search.documents import SearchClient\n",
    "from azure.search.documents.models import Vector \n",
    "import os\n"
   ]
  },
  {
   "cell_type": "code",
   "execution_count": 18,
   "metadata": {},
   "outputs": [],
   "source": [
    "data = pd.read_csv(\"alldata_1_for_kaggle.csv\", encoding='latin1')"
   ]
  },
  {
   "cell_type": "code",
   "execution_count": 3,
   "metadata": {},
   "outputs": [],
   "source": [
    "data.drop(columns=[\"Unnamed: 0\"], inplace=True)"
   ]
  },
  {
   "cell_type": "code",
   "execution_count": 4,
   "metadata": {},
   "outputs": [],
   "source": [
    "data1=data.head(10)"
   ]
  },
  {
   "cell_type": "code",
   "execution_count": 19,
   "metadata": {},
   "outputs": [
    {
     "data": {
      "text/html": [
       "<div>\n",
       "<style scoped>\n",
       "    .dataframe tbody tr th:only-of-type {\n",
       "        vertical-align: middle;\n",
       "    }\n",
       "\n",
       "    .dataframe tbody tr th {\n",
       "        vertical-align: top;\n",
       "    }\n",
       "\n",
       "    .dataframe thead th {\n",
       "        text-align: right;\n",
       "    }\n",
       "</style>\n",
       "<table border=\"1\" class=\"dataframe\">\n",
       "  <thead>\n",
       "    <tr style=\"text-align: right;\">\n",
       "      <th></th>\n",
       "      <th>Unnamed: 0</th>\n",
       "      <th>0</th>\n",
       "      <th>a</th>\n",
       "    </tr>\n",
       "  </thead>\n",
       "  <tbody>\n",
       "    <tr>\n",
       "      <th>0</th>\n",
       "      <td>0</td>\n",
       "      <td>Thyroid_Cancer</td>\n",
       "      <td>Thyroid surgery in  children in a single insti...</td>\n",
       "    </tr>\n",
       "    <tr>\n",
       "      <th>1</th>\n",
       "      <td>1</td>\n",
       "      <td>Thyroid_Cancer</td>\n",
       "      <td>\" The adopted strategy was the same as that us...</td>\n",
       "    </tr>\n",
       "    <tr>\n",
       "      <th>2</th>\n",
       "      <td>2</td>\n",
       "      <td>Thyroid_Cancer</td>\n",
       "      <td>coronary arterybypass grafting thrombosis ï¬b...</td>\n",
       "    </tr>\n",
       "    <tr>\n",
       "      <th>3</th>\n",
       "      <td>3</td>\n",
       "      <td>Thyroid_Cancer</td>\n",
       "      <td>Solitary plasmacytoma SP of the skull is an u...</td>\n",
       "    </tr>\n",
       "    <tr>\n",
       "      <th>4</th>\n",
       "      <td>4</td>\n",
       "      <td>Thyroid_Cancer</td>\n",
       "      <td>This study aimed to investigate serum matrix ...</td>\n",
       "    </tr>\n",
       "    <tr>\n",
       "      <th>...</th>\n",
       "      <td>...</td>\n",
       "      <td>...</td>\n",
       "      <td>...</td>\n",
       "    </tr>\n",
       "    <tr>\n",
       "      <th>7565</th>\n",
       "      <td>7565</td>\n",
       "      <td>Colon_Cancer</td>\n",
       "      <td>we report the case of a 24yearold man who pres...</td>\n",
       "    </tr>\n",
       "    <tr>\n",
       "      <th>7566</th>\n",
       "      <td>7566</td>\n",
       "      <td>Colon_Cancer</td>\n",
       "      <td>among synchronous colorectal cancers scrcs rep...</td>\n",
       "    </tr>\n",
       "    <tr>\n",
       "      <th>7567</th>\n",
       "      <td>7567</td>\n",
       "      <td>Colon_Cancer</td>\n",
       "      <td>the heterogeneity of cancer cells is generally...</td>\n",
       "    </tr>\n",
       "    <tr>\n",
       "      <th>7568</th>\n",
       "      <td>7568</td>\n",
       "      <td>Colon_Cancer</td>\n",
       "      <td>\"adipogenesis is the process through which mes...</td>\n",
       "    </tr>\n",
       "    <tr>\n",
       "      <th>7569</th>\n",
       "      <td>7569</td>\n",
       "      <td>Colon_Cancer</td>\n",
       "      <td>the periparturient period is one of the most c...</td>\n",
       "    </tr>\n",
       "  </tbody>\n",
       "</table>\n",
       "<p>7570 rows × 3 columns</p>\n",
       "</div>"
      ],
      "text/plain": [
       "      Unnamed: 0               0  \\\n",
       "0              0  Thyroid_Cancer   \n",
       "1              1  Thyroid_Cancer   \n",
       "2              2  Thyroid_Cancer   \n",
       "3              3  Thyroid_Cancer   \n",
       "4              4  Thyroid_Cancer   \n",
       "...          ...             ...   \n",
       "7565        7565    Colon_Cancer   \n",
       "7566        7566    Colon_Cancer   \n",
       "7567        7567    Colon_Cancer   \n",
       "7568        7568    Colon_Cancer   \n",
       "7569        7569    Colon_Cancer   \n",
       "\n",
       "                                                      a  \n",
       "0     Thyroid surgery in  children in a single insti...  \n",
       "1     \" The adopted strategy was the same as that us...  \n",
       "2     coronary arterybypass grafting thrombosis ï¬b...  \n",
       "3      Solitary plasmacytoma SP of the skull is an u...  \n",
       "4      This study aimed to investigate serum matrix ...  \n",
       "...                                                 ...  \n",
       "7565  we report the case of a 24yearold man who pres...  \n",
       "7566  among synchronous colorectal cancers scrcs rep...  \n",
       "7567  the heterogeneity of cancer cells is generally...  \n",
       "7568  \"adipogenesis is the process through which mes...  \n",
       "7569  the periparturient period is one of the most c...  \n",
       "\n",
       "[7570 rows x 3 columns]"
      ]
     },
     "execution_count": 19,
     "metadata": {},
     "output_type": "execute_result"
    }
   ],
   "source": [
    "data"
   ]
  },
  {
   "cell_type": "code",
   "execution_count": 16,
   "metadata": {},
   "outputs": [
    {
     "data": {
      "text/html": [
       "<div>\n",
       "<style scoped>\n",
       "    .dataframe tbody tr th:only-of-type {\n",
       "        vertical-align: middle;\n",
       "    }\n",
       "\n",
       "    .dataframe tbody tr th {\n",
       "        vertical-align: top;\n",
       "    }\n",
       "\n",
       "    .dataframe thead th {\n",
       "        text-align: right;\n",
       "    }\n",
       "</style>\n",
       "<table border=\"1\" class=\"dataframe\">\n",
       "  <thead>\n",
       "    <tr style=\"text-align: right;\">\n",
       "      <th></th>\n",
       "      <th>0</th>\n",
       "      <th>a</th>\n",
       "    </tr>\n",
       "  </thead>\n",
       "  <tbody>\n",
       "    <tr>\n",
       "      <th>0</th>\n",
       "      <td>Thyroid_Cancer</td>\n",
       "      <td>Thyroid surgery in  children in a single insti...</td>\n",
       "    </tr>\n",
       "    <tr>\n",
       "      <th>1</th>\n",
       "      <td>Thyroid_Cancer</td>\n",
       "      <td>\" The adopted strategy was the same as that us...</td>\n",
       "    </tr>\n",
       "    <tr>\n",
       "      <th>2</th>\n",
       "      <td>Thyroid_Cancer</td>\n",
       "      <td>coronary arterybypass grafting thrombosis ï¬b...</td>\n",
       "    </tr>\n",
       "    <tr>\n",
       "      <th>3</th>\n",
       "      <td>Thyroid_Cancer</td>\n",
       "      <td>Solitary plasmacytoma SP of the skull is an u...</td>\n",
       "    </tr>\n",
       "    <tr>\n",
       "      <th>4</th>\n",
       "      <td>Thyroid_Cancer</td>\n",
       "      <td>This study aimed to investigate serum matrix ...</td>\n",
       "    </tr>\n",
       "    <tr>\n",
       "      <th>5</th>\n",
       "      <td>Thyroid_Cancer</td>\n",
       "      <td>This study was performed to explore the effec...</td>\n",
       "    </tr>\n",
       "    <tr>\n",
       "      <th>6</th>\n",
       "      <td>Thyroid_Cancer</td>\n",
       "      <td>This study was performed assess the clinical ...</td>\n",
       "    </tr>\n",
       "    <tr>\n",
       "      <th>7</th>\n",
       "      <td>Thyroid_Cancer</td>\n",
       "      <td>Journal of International Medical Research  Th...</td>\n",
       "    </tr>\n",
       "    <tr>\n",
       "      <th>8</th>\n",
       "      <td>Thyroid_Cancer</td>\n",
       "      <td>Gastric cancer GC persists as a worldwide pub...</td>\n",
       "    </tr>\n",
       "    <tr>\n",
       "      <th>9</th>\n",
       "      <td>Thyroid_Cancer</td>\n",
       "      <td>Scars Burns  HealingVolume     reuse guideli...</td>\n",
       "    </tr>\n",
       "  </tbody>\n",
       "</table>\n",
       "</div>"
      ],
      "text/plain": [
       "                0                                                  a\n",
       "0  Thyroid_Cancer  Thyroid surgery in  children in a single insti...\n",
       "1  Thyroid_Cancer  \" The adopted strategy was the same as that us...\n",
       "2  Thyroid_Cancer  coronary arterybypass grafting thrombosis ï¬b...\n",
       "3  Thyroid_Cancer   Solitary plasmacytoma SP of the skull is an u...\n",
       "4  Thyroid_Cancer   This study aimed to investigate serum matrix ...\n",
       "5  Thyroid_Cancer   This study was performed to explore the effec...\n",
       "6  Thyroid_Cancer   This study was performed assess the clinical ...\n",
       "7  Thyroid_Cancer  Journal of International Medical Research  Th...\n",
       "8  Thyroid_Cancer   Gastric cancer GC persists as a worldwide pub...\n",
       "9  Thyroid_Cancer   Scars Burns  HealingVolume     reuse guideli..."
      ]
     },
     "execution_count": 16,
     "metadata": {},
     "output_type": "execute_result"
    }
   ],
   "source": [
    "data1"
   ]
  },
  {
   "cell_type": "code",
   "execution_count": 20,
   "metadata": {},
   "outputs": [],
   "source": [
    "# Open AI Key\n",
    "openai.api_type = \"azure\"\n",
    "openai.api_base = os.getenv(\"AZURE_OPENAI_ENDPOINT\")\n",
    "openai.api_version = \"2023-07-01-preview\"\n",
    "openai.api_key = os.getenv(\"AZURE_OPENAI_API_KEY\")\n",
    "\n",
    "\n",
    "# embedding model\n",
    "embedding_model = os.getenv(\"AZURE_OPENAI_EMBEDDING\")\n",
    "\n",
    "# ref: https://learn.microsoft.com/en-us/azure/search/search-security-api-keys?tabs=portal-use%2Cportal-find%2Cportal-query\n",
    "service_endpoint = os.getenv(\"AZURE_SEARCH_ENDPOINT\")\n",
    "key = \"ICyDmM0S3sWaLpYwNGPfUOz7jblRyOHnE6p7uDHPRRAzSeAaLBFM\"\n",
    "index_name = \"index420\"\n",
    "credential = AzureKeyCredential(key)"
   ]
  },
  {
   "cell_type": "code",
   "execution_count": null,
   "metadata": {},
   "outputs": [],
   "source": [
    "# Call OpenAI's text-embedding API to obtain embeddings for the input text.\n",
    "embeddings = openai.Embedding.create(input=[text], engine=model,api_key = os.getenv(\"AZURE_OPENAI_API_KEY\"), api_base = os.getenv(\"AZURE_OPENAI_ENDPOINT\"))\n",
    "    "
   ]
  },
  {
   "cell_type": "code",
   "execution_count": 38,
   "metadata": {},
   "outputs": [
    {
     "data": {
      "text/plain": [
       "4     This study aimed to investigate serum matrix ...\n",
       "Name: a, dtype: object"
      ]
     },
     "execution_count": 38,
     "metadata": {},
     "output_type": "execute_result"
    }
   ],
   "source": [
    "data[4:5].a"
   ]
  },
  {
   "cell_type": "code",
   "execution_count": null,
   "metadata": {},
   "outputs": [],
   "source": [
    "def get_embedding(text, model=\"text-embedding-ada-002\"):\n",
    "   text = text.replace(\"\\n\", \" \")\n",
    "   return openai.Embedding.create(input = [text], engine=model,api_key = os.getenv(\"AZURE_OPENAI_API_KEY\"), api_base = os.getenv(\"AZURE_OPENAI_ENDPOINT\"))['data'][0]['embedding']\n",
    "\n",
    "data['ada_embedding'] = data.a.apply(lambda x: get_embedding(x, model=\"embedding\"))\n",
    "# df.to_csv('output/embedded_1k_reviews.csv', index=False)"
   ]
  },
  {
   "cell_type": "code",
   "execution_count": 74,
   "metadata": {},
   "outputs": [],
   "source": [
    "data4=data.head(3)"
   ]
  },
  {
   "cell_type": "code",
   "execution_count": 67,
   "metadata": {},
   "outputs": [
    {
     "name": "stdout",
     "output_type": "stream",
     "text": [
      "0\n"
     ]
    }
   ],
   "source": [
    "for i in range(len(data)):\n",
    "    print(i)\n",
    "    break"
   ]
  },
  {
   "cell_type": "code",
   "execution_count": 75,
   "metadata": {},
   "outputs": [
    {
     "data": {
      "text/html": [
       "<div>\n",
       "<style scoped>\n",
       "    .dataframe tbody tr th:only-of-type {\n",
       "        vertical-align: middle;\n",
       "    }\n",
       "\n",
       "    .dataframe tbody tr th {\n",
       "        vertical-align: top;\n",
       "    }\n",
       "\n",
       "    .dataframe thead th {\n",
       "        text-align: right;\n",
       "    }\n",
       "</style>\n",
       "<table border=\"1\" class=\"dataframe\">\n",
       "  <thead>\n",
       "    <tr style=\"text-align: right;\">\n",
       "      <th></th>\n",
       "      <th>Unnamed: 0</th>\n",
       "      <th>0</th>\n",
       "      <th>a</th>\n",
       "    </tr>\n",
       "  </thead>\n",
       "  <tbody>\n",
       "    <tr>\n",
       "      <th>0</th>\n",
       "      <td>0</td>\n",
       "      <td>Thyroid_Cancer</td>\n",
       "      <td>Thyroid surgery in  children in a single insti...</td>\n",
       "    </tr>\n",
       "    <tr>\n",
       "      <th>2</th>\n",
       "      <td>2</td>\n",
       "      <td>Thyroid_Cancer</td>\n",
       "      <td>coronary arterybypass grafting thrombosis ï¬b...</td>\n",
       "    </tr>\n",
       "    <tr>\n",
       "      <th>3</th>\n",
       "      <td>3</td>\n",
       "      <td>Thyroid_Cancer</td>\n",
       "      <td>Solitary plasmacytoma SP of the skull is an u...</td>\n",
       "    </tr>\n",
       "  </tbody>\n",
       "</table>\n",
       "</div>"
      ],
      "text/plain": [
       "   Unnamed: 0               0  \\\n",
       "0           0  Thyroid_Cancer   \n",
       "2           2  Thyroid_Cancer   \n",
       "3           3  Thyroid_Cancer   \n",
       "\n",
       "                                                   a  \n",
       "0  Thyroid surgery in  children in a single insti...  \n",
       "2  coronary arterybypass grafting thrombosis ï¬b...  \n",
       "3   Solitary plasmacytoma SP of the skull is an u...  "
      ]
     },
     "execution_count": 75,
     "metadata": {},
     "output_type": "execute_result"
    }
   ],
   "source": [
    "data4"
   ]
  },
  {
   "cell_type": "code",
   "execution_count": 91,
   "metadata": {},
   "outputs": [],
   "source": [
    "df = pd.read_csv(\"data.csv\")"
   ]
  },
  {
   "cell_type": "code",
   "execution_count": 94,
   "metadata": {},
   "outputs": [
    {
     "data": {
      "text/plain": [
       "\"Thyroid surgery in  children in a single institution from Osama Ibrahim Almosallama Ali Aseerib Ahmed Alhumaida Ali S AlZahranic Saif Alsobhib Saud AlShanafeybFrom the  aDepartment of Surgery College of Medicine Qassim University Buraidah Al Qassim Saudi Arabia  bDepartment of Surgery King Faisal Specialist Hospital and Research Center Riyadh Saudi Arabia cDepartment of Medicine King Faisal Specialist Hospital and Research Center Riyadh Saudi Arabia Correspondence   Dr  Osama Ibrahim  Almosallam  Department of  Surgery  College  of  Medicine Qassim  University  PO  Box   Buraidah  Al  Qassim   Saudi  Arabia  osama_iaahotmailcom ORCID orcid0000000290367564        Citation  Almosallam OI Aseeri A Alhumaid A AlZahrani AS Alsobhi S AlShanafey S Thyroid surgery in  children  in  a  single  institution  from   Ann  Saudi  Med         Received January  Accepted May  Published August  Copyright Copyright   Annals of Saudi Medicine Saudi Arabia This is an   access  under the Creative Commons AttributionNonCommercialNoDerivatives  International License CC BYNCND The details of which can be accessed at httpcreativecommons licensesbyncnd40Funding NoneBACKGROUND Data on thyroid surgery in children are scarceOBJECTIVE Analyze outcome data on thyroid surgery in a pediatric populationDESIGN Medical record reviewSETTING Tertiary health care institutionPATIENTS AND METHODS We collected demographic and clinical data on patients  years or younger who had thyroid surgery in the period  to  Descriptive data are presentedMAIN OUTCOME MEASURES Indications for thyroidectomy thyroid pathology complications length of stay and radioactive iodine treatment and recurrencesSAMPLE SIZE RESULTS Of  patients who underwent  thyroidectomy procedures   were females and the mean age at operation was  years and   were associated with multiple endocrine neoplasia type  There was no history of radiation exposure Eightyone patients  had fine needle aspiration FNA which correlated with the final histopathology in  of cases Sixtysix patients  had malignant cancer  papillary   of  patients who had neck dissection had lymph node metastasis and   had distant metastases to the lung Procedures included total thyroidectomy  hemithyroidectomy  completion  and subtotal thyroidectomy  Twentythree  patients    developed  hypocalcemia    permanent and   had unilateral recurrent laryngeal nerve injury  permanent Patients were followed up for a mean duration of  months median  months Of  patients with thyroid cancer   received radioactive iodine and   had recurrence  Malignancy  is  the  commonest  indication  for  thyroid surgery  in  children  and  FNA  is  highly  diagnostic  Hypocalcemia  and recurrent laryngeal nerve injury are significant complications The recurrence rate in thyroid cancer is  LIMITATIONS RetrospectiveCONFLICT OF INTEREST Noneoriginal ANN SAUDI MED  JULYAUGUST WWWANNSAUDIMEDNET 0cThyroid  diseases  requiring  surgery  are  relatively uncommon in children compared to adults The prevalence  of  palpable  thyroid  nodules  in  children  ranges  from    to    Sporadic  welldifferentiated thyroid cancer is the most common endocrine malignancy in children accounting for  of pediatric cancers  in  the  prepubertal  age  group  and  up  to   of cancers in adolescents aged \\x93 year2 The most common indication for thyroid surgery in children varies among published studies but thyroidectomy for malignant conditions is rising38 Data in children throughout the  world  are  relatively  scarce  The  objective  of  this study was to analyze the clinical data and outcome of thyroid  surgery  in  a  large  series  of  children  treated  at a  single  center  at  King  Faisal  Specialist  Hospital  and Research Center KFSHRC in RiyadhPATIENT AND METHODS With the approval of the Institutional Review Board IRB at KFSHRC the medical records of all patients  years old and younger who underwent a thyroid surgery between    and    were  retrospectively  reviewed We elected to include patients up to the year  to ensure a reasonable followup period Patients for the study were identified by a search of the operating room log for all procedures involving the thyroid gland for the specified age groupDemographic  data  clinical  features  and  surgical outcomes  were  collected  Specific  data  that  were  obtained included age at operation gender family history presenting  symptoms  history  of  radiation  exposure presence of multiple endocrine neoplasia type  MEN   thyroid  function  test  presence  and  size  of  thyroid nodules by ultrasound presence of lymph nodes metastasis or distant metastasis fine needle aspiration FNA cytology  surgical  procedure  final  histopathology  and length of followup Outcomes analyzed were postoperative complications including transient or permanent hypocalcemia  transient  or  permanent  recurrent  laryngeal nerve paralysis wound infection and hematoma length of stay and radioactive iodine treatment and recurrences Thyroid procedures in this series included hemithyroidectomy  subtotal  total  and  completion  thyroidectomy Surgeries were performed by either an endocrine adult surgeon or a pediatric surgeon No intraoperative nerve monitoring was used Early in the series procedures were performed by adult endocrine surgeons but lately a combined approach was adopted where pediatric surgeons and adult endocrine surgeons collaborated in such cases  proceduresthe normal range in our laboratory regardless of symptoms Transient hypocalcemia was identified if it lasted for less than  months while permanent hypocalcemia was  considered  if  the  serum  calcium  level  remained below normal range and the patient continued on calcium  supplementation  after    months  of  the  surgery All patients with a family history of MEN  underwent genetic testing of the RET protooncogene to confirm the diagnosis All patients who underwent completion thyroidectomy  had  a  preoperative  and  postoperative vocal  cords  assessment  at  the  Otolaryngology  clinic Descriptive data were generated and comparisons were conducted using the t test for continuous data and the chisquare or Fisher exact tests for proportionsRESULTSBetween    and      patients  underwent   surgical  procedures    patients  underwent  two  procedures  for  thyroid  disease  at  our  institution  Eighty  patients  were females The mean age at operation was  years median  years range  years The most common indication for thyroidectomy was thyroid nodule which was present in   of cases Table  The mean SD size of thyroid nodules was   mm There were  cases  associated with MEN  syndromes The final pathology in two patients with MEN syndrome showed medullary thyroid cancer MTC while the remaining  patients had prophylactic procedures before development of MTC None of the patients had a history of radiation exposure Eightyone patients  FNA  which  correlated  with  the  final  histopathology  in  of cases There were three cases of toxic adenoma and one case of Graves\\x99 disease which did not require FNA  The  remaining  cases  underwent  FNA  at  another institution and FNA was not repeated at our institution or they came for completion thyroidectomy with documented  pathology  for  malignancy  after  they  had  their first surgery in another hospitalThe  most  common  diagnoses  included  papillary thyroid cancer  and multinodular goiter or colloid Table  Indications for thyroidectomy in  patients IndicationNodulen  MEN  prophylaxisHyperthyroidismMultinodular goiterCompletion thyroidectomy    Hypocalcemia was defined by calcium levels below Data are number  original PEDIATRIC THYROID SURGERYANN SAUDI MED  JULYAUGUST WWWANNSAUDIMEDNET 0cnodule  Table  Surgical procedures included total thyroidectomy  hemithyroidectomy  completion  thyroidectomy    and  subtotal  thyroidectomy  Neck dissection was performed in   patients  Operative  complications  were  observed in    patients    The  most  common  complication was hypocalcemia  transient  permanent and Table  Thyroid pathology in the  patientsPathologyn  BenignNormal thyroid tissueColloid noduleCystAdenomaThyroiditisGraves\\x99 diseaseThyroid cancerPapillaryFollicularMedullaryHurthleAnaplasticTotalData are number              Table  Benign and malignant lesions in  patientsBenignn37Malignantn66 P value  Age meanyearsGender malefemalePresence of noduleHypocalcemiaRecurrent laryngeal nerve palsyBleedinghematomaWound infectionTracheal injuryOverall complicationsMean length of stay daysMEN recurrent laryngeal nerve palsy  transient  permanent all were unilateral Table  Of  patients with malignant lesions   had lymph node metastasis and  patients  had distant metastases to the lung  None  of  the  patients  developed  postoperative bleeding wound infection or tracheal injury Patients were followed up for a mean of  months median   range    months  radioactive  iodine  treatment  was  delivered  to    patients    with  malignant  lesions    patients    had  recurrences   were  local  recurrences  and    were  local  and  distant recurrences to the lung Three cases received radioactive iodine RAI before and after recurrence One case was low risk before recurrence so did not receive RAI until after recurrence One case had medullary thyroid cancer  so  did  not  receive  RAI  In  the  remaining  five cases  there was no clear data whether those patients received RAI before or only after a recurrence All local recurrences  underwent  resection  except  for  one  patient who was lost follow up There was no mortality in this study DISCUSSIONThe most common indication for thyroidectomy in this series was thyroid nodule which correlates with previously published reports in the pediatric population35 Children with thyroid nodules have an estimated fourfold  higher  risk  of  developing  thyroid  cancer  compared to adults910 The high incidence of malignancy in this series suggests children with a thyroid nodule should be carefully evaluatedFNA is a valuablemethod for preoperative evaluation of thyroid nodules However there are limitations on  the  routine  use  of  FNA  in  children  including  the need  for  sedation  sampling  errors  and  the  limited availability  of  experienced  cytopathologists11  Many previous studies reported high sensitivity and specificity of FNA in evaluating thyroid nodule in children1114 which correlate with our findingsOur data showed lymph node metastasis in  of  thyroid  cancer  cases  which  supports  the  notion that  children  with  thyroid  cancer  frequently  present with more extensive disease than adults Lymphnode involvement  at  diagnosis  is  seen  in    to    of children  compared  with    to    of  adults  with differentiated thyroid cancer1523 Because our hospital is the largest referral center in Saudi Arabia especially for oncology cases this may explain the large number of lymph node and distant metastasis In this cohortThe  most  common  complication  reported  after thyroidectomy in children is hypoparathyroidism with an incidence ranging between  to  which original PEDIATRIC THYROID SURGERYANN SAUDI MED  JULYAUGUST WWWANNSAUDIMEDNET 0ccorresponds with our results of  which are reported as hypocalcemia in Table    One study found that total thyroidectomy central and bilateral neck dissection Graves\\x99 disease and malignancy were  risk  factors  for  hypocalcemia  after  thyroid  surgery3 In this cohort postoperative hypocalcemia was noted more in malignant cases but it failed to reach statistical significance Moreover there was no significant difference between benign and malignant cases in  terms  of  mean  age  gender  distribution  recurrent laryngeal nerve injury or overall complications a finding that was reported previously26 Multiple studies in recent years have found an inverse relationship between surgeon volume and complication  rates2728  but  similar  data  in  the  pediatric population is lacking One study found that highvolume  endocrine  surgeons  have  better  outcomes  and shorter lengths of stay and lower costs after thyroidectomy and parathyroidectomy in children compared to pediatric surgeons general surgeons or otolaryngologists29  Scheumann  and  colleagues  also  concluded that a collaborative approach between pediatric and endocrine surgeons would have better outcomes This has led other authors to suggest that a combined approach with endocrine and pediatric surgeons in addition to pediatric endocrinologists may optimize the care of children with surgical thyroid disease given the low number of pediatric patients4 Our data do not allow for comparisons of different approaches given the late adoption of the combined approach The  recurrence  rate  for  thyroid  cancer  in  children after  thyroidectomy  has  varied  widely  in  reported studies  ranging  from    to    while  it  was   in  this  cohort  Only  a  few  studies  explored  the predictors  of  recurrence  Lymph  node  involvement multiple nodules male gender younger age histologic subtype and advanced tumor stage were risk factors associated with recurrence17233033 In  this  study    of  patients  with  malignant  lesions received RAI Although there are conflicting data regarding  the  indications  of  postoperative  RAI  treatment in lowrisk patients the current recommendation is that lowrisk patients can be treated without RAI3436There are some limitations to this study The retrospective nature may affect the validity and quality of the data The small number of cases in some categories did not enable us to compare groups and explore predictors relative to these factors On the other hand this study adds to the scarce data on thyroid surgery in pediatric age group Malignancy is the commonest indication  for  thyroid  surgery  in  children  and  FNA  is highly  diagnostic  Hypocalcemia  and  recurrent  laryngeal nerve injury are significant complications Cancerrelated  death  is  extremely  rare  but  recurrence  is  not uncommon and a significant number of patients with malignant cases received RAI treatmentoriginal PEDIATRIC THYROID SURGERYANN SAUDI MED  JULYAUGUST WWWANNSAUDIMEDNET 0cREFERENCES  Trowbridge  FL  Matovinovic  J  McLaren GD Nichaman MZ Iodine and goiter in children Pediatrics  Ries LAG Melbert D Krapcho M Stinchcomb  DG  Howlader  N  Horner  MJ  et  al SEER  Cancer  Statistics  Review  \\x93 Bethesda  National  Cancer  Institute   Based  on  November    SEER  data  submission Chen Y[h] Masiakos PT Gaz RD Hodin RA Parangi S Randolph GW et al Pediatric thyroidectomy in a high volume thyroid surgery center Risk factors for postoperative hypocalcemia J Pediatr Surg  Aug5081316   Wood  JH  Partrick  DA  Barham  HP  Bensard DD Travers HS Bruny JL et al Pediatric thyroidectomy  a  collaborative  surgical  approach J Pediatr Surg  May4658238  Scholz S Smith JR Chaignaud B Shamberger  RC  Huang  SA  Thyroid  surgery  at Children\\x99s Hospital Boston a 35year singleinstitution  experience  J  Pediatr  Surg   Mar46343742   Josefson  J  Zimmerman  D  Thyroid  nodules and cancers in children Pediatr Endocrinol Rev  Sep611423 Hameed R Zacharin MR  Changing face of paediatric and adolescent thyroid cancer J Paediatr Child Health   LugoVicente  H  Ortiz  VN  Irizarry  H Camps  JI  PagÃ¡n  V  Pediatric  thyroid  nodules management in the era of fine needle aspirationJ Pediatr Surg  Mussa A De Andrea M Motta M Mormile A  Palestini  N  Corrias  A  Predictors  of  Malignancy in Children with Thyroid Nodules J Pediatr  Oct167488692 Amirazodi E Propst EJ Chung CT Parra DA  Wasserman  JD  Pediatric  thyroid  FNA biopsy  Outcomes  and  impact  on  management over  years at a tertiary care center Cancer Cytopathol    Partyka  KL  Huang  EC2  Cramer  HM Chen  S  Wu  HH  Histologic  and  clinical followup  of  thyroid  fineneedle  aspirates in  pediatric  patients  Cancer  Cytopathol  Sinha CK Decoppi P Pierro A Brain C Hindmarsh P Butler G et al Thyroid Surgery in Children Clinical Outcomes Eur J Pediatr Surg  Oct2554259 Kundel A Thompson GB Richards ML Qiu LX Cai Y Schwenk FW et al Pediatric Endocrine Surgery A 20Year Experience at the  Mayo  Clinic  J  Clin  Endocrinol  Metab February  \\x93 Jiang W Newbury RO Newfield RS Pediatric  thyroid  surgery  and  management  of thyroid  nodulesan  institutional  experience features  and over a 10year period Int J Pediatr Endocrinol  Burke JF Sippel RS Chen H Evolution of Pediatric Thyroid Surgery at a Tertiary Medical Center Surg Res   \\x93  AlQahtani  KH  Tunio  MA  Al  Asiri  M Aljohani NJ Bayoumi Y Riaz K et al Clinicopathological treatment outcomes  of  differentiated  thyroid  cancer in  Saudi  children  and  adults  J  Otolaryngol Head Neck Surg  Nov  Kluijfhout WP van Beek DJ Verrijn Stuart  AA  Lodewijk  L  Valk  GD  Van  der  Zee DC  et  al  Postoperative  Complications After  Prophylactic  Thyroidectomy  for  Very Young  Patients  With  Multiple  Endocrine Neoplasia  Type    Medicine  Baltimore 20159429e1108  Raval MV Browne M Chin AC Zimmerman D Angelos P Reynolds M Total thyroidectomy  for  benign  disease  in  the  pediatric patient\\x94feasible  and  safe  J  Pediatr  Surg  Stavrakis AI Ituarte PH Ko CY Yeh MW Surgeon volume as a predictor of outcomes in  inpatient  and  outpatient  endocrine  surgery Surgery \\x93  Sosa JA Bowman HM Tielsch JM Powe NR  Gordon  TA  Udelsman  R  The  importance of surgeon experience for clinical and economic  outcomes  from  thyroidectomy Ann Surg \\x93  Tuggle CT  Roman SA Wang TS Boudourakis  L  Thomas  D  Udelsman  R  et  al Pediatric  endocrine  surgery  Who  is  operating  on  our  children  Surgery   Dec144686977  Park  S  Jeong  JS  Ryu  HR  Lee  C  Park JH Kang S et al Differentiated Thyroid Carcinoma of Children and Adolescents27Year Experience  in  the  Yonsei  University  Health System J Korean Med Sci   Palmer BA Zarroug AE Poley RN Kollars  JP  Moir  CR  Papillary  thyroid  carcinoma in children risk factors and complications  of  disease  recurrence  J  Pediatr  Surg  Wada N Sugino K Mimura T Nagahama M  Kitagawa  W  Shibuya  H  et  al  Pediatric differentiated  thyroid  carcinoma  in  stage  I risk  factor  analysis  for  disease  free  survival BMC Cancer    D Danese Gardini A Farsetti A Sciacchitano  S  Andreoli  M  Pontecorvi  A  Thyroid carcinoma in children and adolescents Eur J Pediatr   Astl  J  Chovanec  M  Lukes  P  Katra  R Dvorakova M Vlcek P et al Thyroid carcinoma surgery in children and adolescents \\x93  years experience surgery of pediatric thyroid lymph  node  metastases carcinoma  Int  J  Pediatr  Otorhinolaryngol   Chaukar  DA  Rangarajan  V  Nair  N Nadkarni  MS  Pai  PS  Dcruz  AK  et  al  Pediatric  thyroid  cancer  J  Surg  Oncol     Dzodic  R  Buta  M  Markovic  I  Gavrilo D Matovic M Milovanovic Z et al Surgical management  of  welldifferentiated  thyroid carcinoma  in  children  and  adolescents   years of experience of a single institution in Serbia Endocr J   Scheumann  GF  Gimm  O  Wegener G  Hundeshagen  H  Dralle  H  Prognostic significance  and  surgical  management  of locoregional in papillary thyroid cancer World J Surg   Shi RL Qu N Yang SW Tumor size interpretation for predicting cervical lymph node metastasis using a differentiated thyroid cancer risk model Onco Targets Ther   \\x93 Zimmerman D Hay ID Gough IR Goellner JR Ryan JJ Grant CS et al Papillary thyroid carcinoma in children and adults longterm  followup  of    patients  conservatively treated at one institution during three decades Surgery   Collini  P  Mattavelli  F  Pellegrinelli  A Barisella M Ferrari A Massimino M Papillary carcinoma of the thyroid gland of childhood and adolescence Morphologic subtypes biologic behavior and prognosis a clinicopathologic study of  sporadic cases treated at a single institution during a 30year period Am J Surg Pathol   BorsonChazot  Causeret  S  Lifante  JC Augros M Berger N Peix JL Predictive factors for recurrence from a series of  children and  adolescents  with  differentiated  thyroid cancer World J Surg   Baumgarten HD Bauer AJ Isaza A MostoufiMoab S Kazahaya K Adzick NS Surgical management of pediatric thyroid disease Complication  rates  after  thyroidectomy  at the Children\\x99s Hospital of Philadelphia highvolume Pediatric Thyroid Center Journal of pediatric  surgery    Oct   Kurzawinski TR De Coppi P Thyroidectomy in Children InPediatric Surgery  pp  Springer Berlin Heidelberg  Francis  G  Waguespack  SG  Bauer  AJ Angelog P Benvenga S et al Management Guidelines  for  Children  with  Thyroid  Nodules  and  Differentiated  Thyroid  Cancer  The American  Thyroid  Association  Guidelines Task Force on Pediatric Thyroid Cancer THYROID Volume  Number  original PEDIATRIC THYROID SURGERYANN SAUDI MED  JULYAUGUST WWWANNSAUDIMEDNET 0c'\""
      ]
     },
     "execution_count": 94,
     "metadata": {},
     "output_type": "execute_result"
    }
   ],
   "source": [
    "df.iloc[0].a"
   ]
  },
  {
   "cell_type": "code",
   "execution_count": 113,
   "metadata": {},
   "outputs": [],
   "source": [
    "df = df.head(5)"
   ]
  },
  {
   "cell_type": "code",
   "execution_count": 114,
   "metadata": {},
   "outputs": [
    {
     "data": {
      "text/html": [
       "<div>\n",
       "<style scoped>\n",
       "    .dataframe tbody tr th:only-of-type {\n",
       "        vertical-align: middle;\n",
       "    }\n",
       "\n",
       "    .dataframe tbody tr th {\n",
       "        vertical-align: top;\n",
       "    }\n",
       "\n",
       "    .dataframe thead th {\n",
       "        text-align: right;\n",
       "    }\n",
       "</style>\n",
       "<table border=\"1\" class=\"dataframe\">\n",
       "  <thead>\n",
       "    <tr style=\"text-align: right;\">\n",
       "      <th></th>\n",
       "      <th>Unnamed: 0.1</th>\n",
       "      <th>Unnamed: 0</th>\n",
       "      <th>0</th>\n",
       "      <th>a</th>\n",
       "    </tr>\n",
       "  </thead>\n",
       "  <tbody>\n",
       "    <tr>\n",
       "      <th>0</th>\n",
       "      <td>0</td>\n",
       "      <td>0</td>\n",
       "      <td>Thyroid_Cancer</td>\n",
       "      <td>Thyroid surgery in  children in a single insti...</td>\n",
       "    </tr>\n",
       "    <tr>\n",
       "      <th>1</th>\n",
       "      <td>3</td>\n",
       "      <td>3</td>\n",
       "      <td>Thyroid_Cancer</td>\n",
       "      <td>Solitary plasmacytoma SP of the skull is an u...</td>\n",
       "    </tr>\n",
       "    <tr>\n",
       "      <th>2</th>\n",
       "      <td>4</td>\n",
       "      <td>4</td>\n",
       "      <td>Thyroid_Cancer</td>\n",
       "      <td>This study aimed to investigate serum matrix ...</td>\n",
       "    </tr>\n",
       "    <tr>\n",
       "      <th>3</th>\n",
       "      <td>5</td>\n",
       "      <td>5</td>\n",
       "      <td>Thyroid_Cancer</td>\n",
       "      <td>This study was performed to explore the effec...</td>\n",
       "    </tr>\n",
       "    <tr>\n",
       "      <th>4</th>\n",
       "      <td>6</td>\n",
       "      <td>6</td>\n",
       "      <td>Thyroid_Cancer</td>\n",
       "      <td>This study was performed assess the clinical ...</td>\n",
       "    </tr>\n",
       "  </tbody>\n",
       "</table>\n",
       "</div>"
      ],
      "text/plain": [
       "   Unnamed: 0.1  Unnamed: 0               0  \\\n",
       "0             0           0  Thyroid_Cancer   \n",
       "1             3           3  Thyroid_Cancer   \n",
       "2             4           4  Thyroid_Cancer   \n",
       "3             5           5  Thyroid_Cancer   \n",
       "4             6           6  Thyroid_Cancer   \n",
       "\n",
       "                                                   a  \n",
       "0  Thyroid surgery in  children in a single insti...  \n",
       "1   Solitary plasmacytoma SP of the skull is an u...  \n",
       "2   This study aimed to investigate serum matrix ...  \n",
       "3   This study was performed to explore the effec...  \n",
       "4   This study was performed assess the clinical ...  "
      ]
     },
     "execution_count": 114,
     "metadata": {},
     "output_type": "execute_result"
    }
   ],
   "source": [
    "df"
   ]
  },
  {
   "cell_type": "code",
   "execution_count": 112,
   "metadata": {},
   "outputs": [
    {
     "data": {
      "text/plain": [
       "7"
      ]
     },
     "execution_count": 112,
     "metadata": {},
     "output_type": "execute_result"
    }
   ],
   "source": [
    "len(emb_list)"
   ]
  },
  {
   "cell_type": "code",
   "execution_count": 115,
   "metadata": {},
   "outputs": [],
   "source": [
    "\n",
    "emb_list = []\n",
    "for i in range(len(df)):\n",
    "    x=df.iloc[i].a\n",
    "    emb_list.append(get_embedding(x, model=\"embedding\"))"
   ]
  },
  {
   "cell_type": "code",
   "execution_count": 78,
   "metadata": {},
   "outputs": [],
   "source": [
    "data.drop(2,axis=0,inplace=True)"
   ]
  },
  {
   "cell_type": "code",
   "execution_count": 85,
   "metadata": {},
   "outputs": [],
   "source": [
    "data9=data.head(10)"
   ]
  },
  {
   "cell_type": "code",
   "execution_count": 87,
   "metadata": {},
   "outputs": [],
   "source": [
    "data9.to_csv(\"data.csv\")"
   ]
  },
  {
   "cell_type": "code",
   "execution_count": 88,
   "metadata": {},
   "outputs": [],
   "source": [
    "df = pd.read_csv(\"data.csv\")"
   ]
  },
  {
   "cell_type": "code",
   "execution_count": 89,
   "metadata": {},
   "outputs": [
    {
     "data": {
      "text/html": [
       "<div>\n",
       "<style scoped>\n",
       "    .dataframe tbody tr th:only-of-type {\n",
       "        vertical-align: middle;\n",
       "    }\n",
       "\n",
       "    .dataframe tbody tr th {\n",
       "        vertical-align: top;\n",
       "    }\n",
       "\n",
       "    .dataframe thead th {\n",
       "        text-align: right;\n",
       "    }\n",
       "</style>\n",
       "<table border=\"1\" class=\"dataframe\">\n",
       "  <thead>\n",
       "    <tr style=\"text-align: right;\">\n",
       "      <th></th>\n",
       "      <th>Unnamed: 0.1</th>\n",
       "      <th>Unnamed: 0</th>\n",
       "      <th>0</th>\n",
       "      <th>a</th>\n",
       "    </tr>\n",
       "  </thead>\n",
       "  <tbody>\n",
       "    <tr>\n",
       "      <th>0</th>\n",
       "      <td>0</td>\n",
       "      <td>0</td>\n",
       "      <td>Thyroid_Cancer</td>\n",
       "      <td>Thyroid surgery in  children in a single insti...</td>\n",
       "    </tr>\n",
       "    <tr>\n",
       "      <th>1</th>\n",
       "      <td>3</td>\n",
       "      <td>3</td>\n",
       "      <td>Thyroid_Cancer</td>\n",
       "      <td>Solitary plasmacytoma SP of the skull is an u...</td>\n",
       "    </tr>\n",
       "    <tr>\n",
       "      <th>2</th>\n",
       "      <td>4</td>\n",
       "      <td>4</td>\n",
       "      <td>Thyroid_Cancer</td>\n",
       "      <td>This study aimed to investigate serum matrix ...</td>\n",
       "    </tr>\n",
       "    <tr>\n",
       "      <th>3</th>\n",
       "      <td>5</td>\n",
       "      <td>5</td>\n",
       "      <td>Thyroid_Cancer</td>\n",
       "      <td>This study was performed to explore the effec...</td>\n",
       "    </tr>\n",
       "    <tr>\n",
       "      <th>4</th>\n",
       "      <td>6</td>\n",
       "      <td>6</td>\n",
       "      <td>Thyroid_Cancer</td>\n",
       "      <td>This study was performed assess the clinical ...</td>\n",
       "    </tr>\n",
       "    <tr>\n",
       "      <th>5</th>\n",
       "      <td>7</td>\n",
       "      <td>7</td>\n",
       "      <td>Thyroid_Cancer</td>\n",
       "      <td>Journal of International Medical Research  Th...</td>\n",
       "    </tr>\n",
       "    <tr>\n",
       "      <th>6</th>\n",
       "      <td>8</td>\n",
       "      <td>8</td>\n",
       "      <td>Thyroid_Cancer</td>\n",
       "      <td>Gastric cancer GC persists as a worldwide pub...</td>\n",
       "    </tr>\n",
       "    <tr>\n",
       "      <th>7</th>\n",
       "      <td>9</td>\n",
       "      <td>9</td>\n",
       "      <td>Thyroid_Cancer</td>\n",
       "      <td>Scars Burns  HealingVolume     reuse guideli...</td>\n",
       "    </tr>\n",
       "    <tr>\n",
       "      <th>8</th>\n",
       "      <td>10</td>\n",
       "      <td>10</td>\n",
       "      <td>Thyroid_Cancer</td>\n",
       "      <td>In  a novel coronavirus SARSCoV2 was found to...</td>\n",
       "    </tr>\n",
       "    <tr>\n",
       "      <th>9</th>\n",
       "      <td>11</td>\n",
       "      <td>11</td>\n",
       "      <td>Thyroid_Cancer</td>\n",
       "      <td>Cabozantinib is an oral multikinase inhibitor...</td>\n",
       "    </tr>\n",
       "  </tbody>\n",
       "</table>\n",
       "</div>"
      ],
      "text/plain": [
       "   Unnamed: 0.1  Unnamed: 0               0  \\\n",
       "0             0           0  Thyroid_Cancer   \n",
       "1             3           3  Thyroid_Cancer   \n",
       "2             4           4  Thyroid_Cancer   \n",
       "3             5           5  Thyroid_Cancer   \n",
       "4             6           6  Thyroid_Cancer   \n",
       "5             7           7  Thyroid_Cancer   \n",
       "6             8           8  Thyroid_Cancer   \n",
       "7             9           9  Thyroid_Cancer   \n",
       "8            10          10  Thyroid_Cancer   \n",
       "9            11          11  Thyroid_Cancer   \n",
       "\n",
       "                                                   a  \n",
       "0  Thyroid surgery in  children in a single insti...  \n",
       "1   Solitary plasmacytoma SP of the skull is an u...  \n",
       "2   This study aimed to investigate serum matrix ...  \n",
       "3   This study was performed to explore the effec...  \n",
       "4   This study was performed assess the clinical ...  \n",
       "5  Journal of International Medical Research  Th...  \n",
       "6   Gastric cancer GC persists as a worldwide pub...  \n",
       "7   Scars Burns  HealingVolume     reuse guideli...  \n",
       "8   In  a novel coronavirus SARSCoV2 was found to...  \n",
       "9   Cabozantinib is an oral multikinase inhibitor...  "
      ]
     },
     "execution_count": 89,
     "metadata": {},
     "output_type": "execute_result"
    }
   ],
   "source": [
    "df"
   ]
  },
  {
   "cell_type": "code",
   "execution_count": 90,
   "metadata": {},
   "outputs": [
    {
     "data": {
      "text/plain": [
       "Unnamed: 0.1                                                    3\n",
       "Unnamed: 0                                                      3\n",
       "0                                                  Thyroid_Cancer\n",
       "a                Solitary plasmacytoma SP of the skull is an u...\n",
       "Name: 1, dtype: object"
      ]
     },
     "execution_count": 90,
     "metadata": {},
     "output_type": "execute_result"
    }
   ],
   "source": [
    "df.iloc[]"
   ]
  },
  {
   "cell_type": "code",
   "execution_count": 46,
   "metadata": {},
   "outputs": [
    {
     "data": {
      "text/plain": [
       "(7570, 3)"
      ]
     },
     "execution_count": 46,
     "metadata": {},
     "output_type": "execute_result"
    }
   ],
   "source": [
    "data.shape"
   ]
  },
  {
   "cell_type": "code",
   "execution_count": 22,
   "metadata": {},
   "outputs": [],
   "source": [
    "x=\"Why was there a long-term economic downturn in the early 20th century?\""
   ]
  },
  {
   "cell_type": "code",
   "execution_count": 98,
   "metadata": {},
   "outputs": [
    {
     "data": {
      "text/plain": [
       "\"Thyroid surgery in  children in a single institution from Osama Ibrahim Almosallama Ali Aseerib Ahmed Alhumaida Ali S AlZahranic Saif Alsobhib Saud AlShanafeybFrom the  aDepartment of Surgery College of Medicine Qassim University Buraidah Al Qassim Saudi Arabia  bDepartment of Surgery King Faisal Specialist Hospital and Research Center Riyadh Saudi Arabia cDepartment of Medicine King Faisal Specialist Hospital and Research Center Riyadh Saudi Arabia Correspondence   Dr  Osama Ibrahim  Almosallam  Department of  Surgery  College  of  Medicine Qassim  University  PO  Box   Buraidah  Al  Qassim   Saudi  Arabia  osama_iaahotmailcom ORCID orcid0000000290367564        Citation  Almosallam OI Aseeri A Alhumaid A AlZahrani AS Alsobhi S AlShanafey S Thyroid surgery in  children  in  a  single  institution  from   Ann  Saudi  Med         Received January  Accepted May  Published August  Copyright Copyright   Annals of Saudi Medicine Saudi Arabia This is an   access  under the Creative Commons AttributionNonCommercialNoDerivatives  International License CC BYNCND The details of which can be accessed at httpcreativecommons licensesbyncnd40Funding NoneBACKGROUND Data on thyroid surgery in children are scarceOBJECTIVE Analyze outcome data on thyroid surgery in a pediatric populationDESIGN Medical record reviewSETTING Tertiary health care institutionPATIENTS AND METHODS We collected demographic and clinical data on patients  years or younger who had thyroid surgery in the period  to  Descriptive data are presentedMAIN OUTCOME MEASURES Indications for thyroidectomy thyroid pathology complications length of stay and radioactive iodine treatment and recurrencesSAMPLE SIZE RESULTS Of  patients who underwent  thyroidectomy procedures   were females and the mean age at operation was  years and   were associated with multiple endocrine neoplasia type  There was no history of radiation exposure Eightyone patients  had fine needle aspiration FNA which correlated with the final histopathology in  of cases Sixtysix patients  had malignant cancer  papillary   of  patients who had neck dissection had lymph node metastasis and   had distant metastases to the lung Procedures included total thyroidectomy  hemithyroidectomy  completion  and subtotal thyroidectomy  Twentythree  patients    developed  hypocalcemia    permanent and   had unilateral recurrent laryngeal nerve injury  permanent Patients were followed up for a mean duration of  months median  months Of  patients with thyroid cancer   received radioactive iodine and   had recurrence  Malignancy  is  the  commonest  indication  for  thyroid surgery  in  children  and  FNA  is  highly  diagnostic  Hypocalcemia  and recurrent laryngeal nerve injury are significant complications The recurrence rate in thyroid cancer is  LIMITATIONS RetrospectiveCONFLICT OF INTEREST Noneoriginal ANN SAUDI MED  JULYAUGUST WWWANNSAUDIMEDNET 0cThyroid  diseases  requiring  surgery  are  relatively uncommon in children compared to adults The prevalence  of  palpable  thyroid  nodules  in  children  ranges  from    to    Sporadic  welldifferentiated thyroid cancer is the most common endocrine malignancy in children accounting for  of pediatric cancers  in  the  prepubertal  age  group  and  up  to   of cancers in adolescents aged \\x93 year2 The most common indication for thyroid surgery in children varies among published studies but thyroidectomy for malignant conditions is rising38 Data in children throughout the  world  are  relatively  scarce  The  objective  of  this study was to analyze the clinical data and outcome of thyroid  surgery  in  a  large  series  of  children  treated  at a  single  center  at  King  Faisal  Specialist  Hospital  and Research Center KFSHRC in RiyadhPATIENT AND METHODS With the approval of the Institutional Review Board IRB at KFSHRC the medical records of all patients  years old and younger who underwent a thyroid surgery between    and    were  retrospectively  reviewed We elected to include patients up to the year  to ensure a reasonable followup period Patients for the study were identified by a search of the operating room log for all procedures involving the thyroid gland for the specified age groupDemographic  data  clinical  features  and  surgical outcomes  were  collected  Specific  data  that  were  obtained included age at operation gender family history presenting  symptoms  history  of  radiation  exposure presence of multiple endocrine neoplasia type  MEN   thyroid  function  test  presence  and  size  of  thyroid nodules by ultrasound presence of lymph nodes metastasis or distant metastasis fine needle aspiration FNA cytology  surgical  procedure  final  histopathology  and length of followup Outcomes analyzed were postoperative complications including transient or permanent hypocalcemia  transient  or  permanent  recurrent  laryngeal nerve paralysis wound infection and hematoma length of stay and radioactive iodine treatment and recurrences Thyroid procedures in this series included hemithyroidectomy  subtotal  total  and  completion  thyroidectomy Surgeries were performed by either an endocrine adult surgeon or a pediatric surgeon No intraoperative nerve monitoring was used Early in the series procedures were performed by adult endocrine surgeons but lately a combined approach was adopted where pediatric surgeons and adult endocrine surgeons collaborated in such cases  proceduresthe normal range in our laboratory regardless of symptoms Transient hypocalcemia was identified if it lasted for less than  months while permanent hypocalcemia was  considered  if  the  serum  calcium  level  remained below normal range and the patient continued on calcium  supplementation  after    months  of  the  surgery All patients with a family history of MEN  underwent genetic testing of the RET protooncogene to confirm the diagnosis All patients who underwent completion thyroidectomy  had  a  preoperative  and  postoperative vocal  cords  assessment  at  the  Otolaryngology  clinic Descriptive data were generated and comparisons were conducted using the t test for continuous data and the chisquare or Fisher exact tests for proportionsRESULTSBetween    and      patients  underwent   surgical  procedures    patients  underwent  two  procedures  for  thyroid  disease  at  our  institution  Eighty  patients  were females The mean age at operation was  years median  years range  years The most common indication for thyroidectomy was thyroid nodule which was present in   of cases Table  The mean SD size of thyroid nodules was   mm There were  cases  associated with MEN  syndromes The final pathology in two patients with MEN syndrome showed medullary thyroid cancer MTC while the remaining  patients had prophylactic procedures before development of MTC None of the patients had a history of radiation exposure Eightyone patients  FNA  which  correlated  with  the  final  histopathology  in  of cases There were three cases of toxic adenoma and one case of Graves\\x99 disease which did not require FNA  The  remaining  cases  underwent  FNA  at  another institution and FNA was not repeated at our institution or they came for completion thyroidectomy with documented  pathology  for  malignancy  after  they  had  their first surgery in another hospitalThe  most  common  diagnoses  included  papillary thyroid cancer  and multinodular goiter or colloid Table  Indications for thyroidectomy in  patients IndicationNodulen  MEN  prophylaxisHyperthyroidismMultinodular goiterCompletion thyroidectomy    Hypocalcemia was defined by calcium levels below Data are number  original PEDIATRIC THYROID SURGERYANN SAUDI MED  JULYAUGUST WWWANNSAUDIMEDNET 0cnodule  Table  Surgical procedures included total thyroidectomy  hemithyroidectomy  completion  thyroidectomy    and  subtotal  thyroidectomy  Neck dissection was performed in   patients  Operative  complications  were  observed in    patients    The  most  common  complication was hypocalcemia  transient  permanent and Table  Thyroid pathology in the  patientsPathologyn  BenignNormal thyroid tissueColloid noduleCystAdenomaThyroiditisGraves\\x99 diseaseThyroid cancerPapillaryFollicularMedullaryHurthleAnaplasticTotalData are number              Table  Benign and malignant lesions in  patientsBenignn37Malignantn66 P value  Age meanyearsGender malefemalePresence of noduleHypocalcemiaRecurrent laryngeal nerve palsyBleedinghematomaWound infectionTracheal injuryOverall complicationsMean length of stay daysMEN recurrent laryngeal nerve palsy  transient  permanent all were unilateral Table  Of  patients with malignant lesions   had lymph node metastasis and  patients  had distant metastases to the lung  None  of  the  patients  developed  postoperative bleeding wound infection or tracheal injury Patients were followed up for a mean of  months median   range    months  radioactive  iodine  treatment  was  delivered  to    patients    with  malignant  lesions    patients    had  recurrences   were  local  recurrences  and    were  local  and  distant recurrences to the lung Three cases received radioactive iodine RAI before and after recurrence One case was low risk before recurrence so did not receive RAI until after recurrence One case had medullary thyroid cancer  so  did  not  receive  RAI  In  the  remaining  five cases  there was no clear data whether those patients received RAI before or only after a recurrence All local recurrences  underwent  resection  except  for  one  patient who was lost follow up There was no mortality in this study DISCUSSIONThe most common indication for thyroidectomy in this series was thyroid nodule which correlates with previously published reports in the pediatric population35 Children with thyroid nodules have an estimated fourfold  higher  risk  of  developing  thyroid  cancer  compared to adults910 The high incidence of malignancy in this series suggests children with a thyroid nodule should be carefully evaluatedFNA is a valuablemethod for preoperative evaluation of thyroid nodules However there are limitations on  the  routine  use  of  FNA  in  children  including  the need  for  sedation  sampling  errors  and  the  limited availability  of  experienced  cytopathologists11  Many previous studies reported high sensitivity and specificity of FNA in evaluating thyroid nodule in children1114 which correlate with our findingsOur data showed lymph node metastasis in  of  thyroid  cancer  cases  which  supports  the  notion that  children  with  thyroid  cancer  frequently  present with more extensive disease than adults Lymphnode involvement  at  diagnosis  is  seen  in    to    of children  compared  with    to    of  adults  with differentiated thyroid cancer1523 Because our hospital is the largest referral center in Saudi Arabia especially for oncology cases this may explain the large number of lymph node and distant metastasis In this cohortThe  most  common  complication  reported  after thyroidectomy in children is hypoparathyroidism with an incidence ranging between  to  which original PEDIATRIC THYROID SURGERYANN SAUDI MED  JULYAUGUST WWWANNSAUDIMEDNET 0ccorresponds with our results of  which are reported as hypocalcemia in Table    One study found that total thyroidectomy central and bilateral neck dissection Graves\\x99 disease and malignancy were  risk  factors  for  hypocalcemia  after  thyroid  surgery3 In this cohort postoperative hypocalcemia was noted more in malignant cases but it failed to reach statistical significance Moreover there was no significant difference between benign and malignant cases in  terms  of  mean  age  gender  distribution  recurrent laryngeal nerve injury or overall complications a finding that was reported previously26 Multiple studies in recent years have found an inverse relationship between surgeon volume and complication  rates2728  but  similar  data  in  the  pediatric population is lacking One study found that highvolume  endocrine  surgeons  have  better  outcomes  and shorter lengths of stay and lower costs after thyroidectomy and parathyroidectomy in children compared to pediatric surgeons general surgeons or otolaryngologists29  Scheumann  and  colleagues  also  concluded that a collaborative approach between pediatric and endocrine surgeons would have better outcomes This has led other authors to suggest that a combined approach with endocrine and pediatric surgeons in addition to pediatric endocrinologists may optimize the care of children with surgical thyroid disease given the low number of pediatric patients4 Our data do not allow for comparisons of different approaches given the late adoption of the combined approach The  recurrence  rate  for  thyroid  cancer  in  children after  thyroidectomy  has  varied  widely  in  reported studies  ranging  from    to    while  it  was   in  this  cohort  Only  a  few  studies  explored  the predictors  of  recurrence  Lymph  node  involvement multiple nodules male gender younger age histologic subtype and advanced tumor stage were risk factors associated with recurrence17233033 In  this  study    of  patients  with  malignant  lesions received RAI Although there are conflicting data regarding  the  indications  of  postoperative  RAI  treatment in lowrisk patients the current recommendation is that lowrisk patients can be treated without RAI3436There are some limitations to this study The retrospective nature may affect the validity and quality of the data The small number of cases in some categories did not enable us to compare groups and explore predictors relative to these factors On the other hand this study adds to the scarce data on thyroid surgery in pediatric age group Malignancy is the commonest indication  for  thyroid  surgery  in  children  and  FNA  is highly  diagnostic  Hypocalcemia  and  recurrent  laryngeal nerve injury are significant complications Cancerrelated  death  is  extremely  rare  but  recurrence  is  not uncommon and a significant number of patients with malignant cases received RAI treatmentoriginal PEDIATRIC THYROID SURGERYANN SAUDI MED  JULYAUGUST WWWANNSAUDIMEDNET 0cREFERENCES  Trowbridge  FL  Matovinovic  J  McLaren GD Nichaman MZ Iodine and goiter in children Pediatrics  Ries LAG Melbert D Krapcho M Stinchcomb  DG  Howlader  N  Horner  MJ  et  al SEER  Cancer  Statistics  Review  \\x93 Bethesda  National  Cancer  Institute   Based  on  November    SEER  data  submission Chen Y[h] Masiakos PT Gaz RD Hodin RA Parangi S Randolph GW et al Pediatric thyroidectomy in a high volume thyroid surgery center Risk factors for postoperative hypocalcemia J Pediatr Surg  Aug5081316   Wood  JH  Partrick  DA  Barham  HP  Bensard DD Travers HS Bruny JL et al Pediatric thyroidectomy  a  collaborative  surgical  approach J Pediatr Surg  May4658238  Scholz S Smith JR Chaignaud B Shamberger  RC  Huang  SA  Thyroid  surgery  at Children\\x99s Hospital Boston a 35year singleinstitution  experience  J  Pediatr  Surg   Mar46343742   Josefson  J  Zimmerman  D  Thyroid  nodules and cancers in children Pediatr Endocrinol Rev  Sep611423 Hameed R Zacharin MR  Changing face of paediatric and adolescent thyroid cancer J Paediatr Child Health   LugoVicente  H  Ortiz  VN  Irizarry  H Camps  JI  PagÃ¡n  V  Pediatric  thyroid  nodules management in the era of fine needle aspirationJ Pediatr Surg  Mussa A De Andrea M Motta M Mormile A  Palestini  N  Corrias  A  Predictors  of  Malignancy in Children with Thyroid Nodules J Pediatr  Oct167488692 Amirazodi E Propst EJ Chung CT Parra DA  Wasserman  JD  Pediatric  thyroid  FNA biopsy  Outcomes  and  impact  on  management over  years at a tertiary care center Cancer Cytopathol    Partyka  KL  Huang  EC2  Cramer  HM Chen  S  Wu  HH  Histologic  and  clinical followup  of  thyroid  fineneedle  aspirates in  pediatric  patients  Cancer  Cytopathol  Sinha CK Decoppi P Pierro A Brain C Hindmarsh P Butler G et al Thyroid Surgery in Children Clinical Outcomes Eur J Pediatr Surg  Oct2554259 Kundel A Thompson GB Richards ML Qiu LX Cai Y Schwenk FW et al Pediatric Endocrine Surgery A 20Year Experience at the  Mayo  Clinic  J  Clin  Endocrinol  Metab February  \\x93 Jiang W Newbury RO Newfield RS Pediatric  thyroid  surgery  and  management  of thyroid  nodulesan  institutional  experience features  and over a 10year period Int J Pediatr Endocrinol  Burke JF Sippel RS Chen H Evolution of Pediatric Thyroid Surgery at a Tertiary Medical Center Surg Res   \\x93  AlQahtani  KH  Tunio  MA  Al  Asiri  M Aljohani NJ Bayoumi Y Riaz K et al Clinicopathological treatment outcomes  of  differentiated  thyroid  cancer in  Saudi  children  and  adults  J  Otolaryngol Head Neck Surg  Nov  Kluijfhout WP van Beek DJ Verrijn Stuart  AA  Lodewijk  L  Valk  GD  Van  der  Zee DC  et  al  Postoperative  Complications After  Prophylactic  Thyroidectomy  for  Very Young  Patients  With  Multiple  Endocrine Neoplasia  Type    Medicine  Baltimore 20159429e1108  Raval MV Browne M Chin AC Zimmerman D Angelos P Reynolds M Total thyroidectomy  for  benign  disease  in  the  pediatric patient\\x94feasible  and  safe  J  Pediatr  Surg  Stavrakis AI Ituarte PH Ko CY Yeh MW Surgeon volume as a predictor of outcomes in  inpatient  and  outpatient  endocrine  surgery Surgery \\x93  Sosa JA Bowman HM Tielsch JM Powe NR  Gordon  TA  Udelsman  R  The  importance of surgeon experience for clinical and economic  outcomes  from  thyroidectomy Ann Surg \\x93  Tuggle CT  Roman SA Wang TS Boudourakis  L  Thomas  D  Udelsman  R  et  al Pediatric  endocrine  surgery  Who  is  operating  on  our  children  Surgery   Dec144686977  Park  S  Jeong  JS  Ryu  HR  Lee  C  Park JH Kang S et al Differentiated Thyroid Carcinoma of Children and Adolescents27Year Experience  in  the  Yonsei  University  Health System J Korean Med Sci   Palmer BA Zarroug AE Poley RN Kollars  JP  Moir  CR  Papillary  thyroid  carcinoma in children risk factors and complications  of  disease  recurrence  J  Pediatr  Surg  Wada N Sugino K Mimura T Nagahama M  Kitagawa  W  Shibuya  H  et  al  Pediatric differentiated  thyroid  carcinoma  in  stage  I risk  factor  analysis  for  disease  free  survival BMC Cancer    D Danese Gardini A Farsetti A Sciacchitano  S  Andreoli  M  Pontecorvi  A  Thyroid carcinoma in children and adolescents Eur J Pediatr   Astl  J  Chovanec  M  Lukes  P  Katra  R Dvorakova M Vlcek P et al Thyroid carcinoma surgery in children and adolescents \\x93  years experience surgery of pediatric thyroid lymph  node  metastases carcinoma  Int  J  Pediatr  Otorhinolaryngol   Chaukar  DA  Rangarajan  V  Nair  N Nadkarni  MS  Pai  PS  Dcruz  AK  et  al  Pediatric  thyroid  cancer  J  Surg  Oncol     Dzodic  R  Buta  M  Markovic  I  Gavrilo D Matovic M Milovanovic Z et al Surgical management  of  welldifferentiated  thyroid carcinoma  in  children  and  adolescents   years of experience of a single institution in Serbia Endocr J   Scheumann  GF  Gimm  O  Wegener G  Hundeshagen  H  Dralle  H  Prognostic significance  and  surgical  management  of locoregional in papillary thyroid cancer World J Surg   Shi RL Qu N Yang SW Tumor size interpretation for predicting cervical lymph node metastasis using a differentiated thyroid cancer risk model Onco Targets Ther   \\x93 Zimmerman D Hay ID Gough IR Goellner JR Ryan JJ Grant CS et al Papillary thyroid carcinoma in children and adults longterm  followup  of    patients  conservatively treated at one institution during three decades Surgery   Collini  P  Mattavelli  F  Pellegrinelli  A Barisella M Ferrari A Massimino M Papillary carcinoma of the thyroid gland of childhood and adolescence Morphologic subtypes biologic behavior and prognosis a clinicopathologic study of  sporadic cases treated at a single institution during a 30year period Am J Surg Pathol   BorsonChazot  Causeret  S  Lifante  JC Augros M Berger N Peix JL Predictive factors for recurrence from a series of  children and  adolescents  with  differentiated  thyroid cancer World J Surg   Baumgarten HD Bauer AJ Isaza A MostoufiMoab S Kazahaya K Adzick NS Surgical management of pediatric thyroid disease Complication  rates  after  thyroidectomy  at the Children\\x99s Hospital of Philadelphia highvolume Pediatric Thyroid Center Journal of pediatric  surgery    Oct   Kurzawinski TR De Coppi P Thyroidectomy in Children InPediatric Surgery  pp  Springer Berlin Heidelberg  Francis  G  Waguespack  SG  Bauer  AJ Angelog P Benvenga S et al Management Guidelines  for  Children  with  Thyroid  Nodules  and  Differentiated  Thyroid  Cancer  The American  Thyroid  Association  Guidelines Task Force on Pediatric Thyroid Cancer THYROID Volume  Number  original PEDIATRIC THYROID SURGERYANN SAUDI MED  JULYAUGUST WWWANNSAUDIMEDNET 0c'\""
      ]
     },
     "execution_count": 98,
     "metadata": {},
     "output_type": "execute_result"
    }
   ],
   "source": [
    "df.iloc[0].a"
   ]
  },
  {
   "cell_type": "code",
   "execution_count": 103,
   "metadata": {},
   "outputs": [
    {
     "data": {
      "text/plain": [
       "\" This study aimed to investigate serum matrix metalloproteinase MMP2 and MMP9levels in patients with papillary thyroid carcinoma PTCMethods Fortyone patients with PTC undergoing ultrasoundguided radiofrequency ablationRFA and  controls were included Serum MMP2 and MMP9 levels were determined byenzymelinked immunosorbent assay before and after surgery Potential affecting factors wereevaluated by logistic regression analysisResults Serum MMP2 and MMP9 levels were significantly higher in PTC patients comparedwith controls and decreased significantly after surgery According to receiver operating characteristic curve analysis diagnostic values for preoperative serum MMP2 and MMP9 levels were and  There was no contrastagent perfusion in the ablation zone in  of lesionsand enhancement within or at the lesion edge in  The volume reduction at  months\\x99followup was  Age microcalcification irregular shape and lesion diameter and numberwere influencing factors for PTC Age and lesion diameter and number were independent riskfactors while calcification and morphology were protective factorsConclusion Serum MMP2 and MMP9 levels have important clinical values for the diagnosis andtreatment of PTC by RFA Preoperative serum MMP2 and MMP9 levels combined with otheraffecting factors contribute to disease prognosisDepartment of Ultrasound Beilun People\\x99s Hospital ofNingbo Beilun Branch of the First Affiliated Hospital ofZhejiang University Ningbo Zhejiang ChinaThese authors contributed equally to this studyCorresponding authorQian Ding Department of Ultrasound Beilun People\\x99sHospital of Ningbo Beilun Branch of the First AffiliatedHospital of Zhejiang University No  East LushanRoad Ningbo  Zhejiang ChinaEmail qianding02sohucomCreative Commons Non Commercial CC BYNC This  is distributed under the terms of the CreativeCommons AttributionNonCommercial  License creativecommonslicensesbync40 which permitsnoncommercial use reproduction and distribution of the work without further permission provided the original work is attributedas specified on the SAGE and   Access pages ussagepubcomenusnam accessatsage 0cJournal of International Medical ResearchKeywordsPapillary thyroid carcinoma radiofrequency ablation matrix metalloproteinase2 matrix metalloproteinase9 disease prognosis serum levelDate received  June  accepted  March IntroductionPapillary thyroid carcinoma PTCis acommon thyroid malignancy accountingfor about  of systemic malignancies1PTC is currently characterized by a highincidence and low mortality2clinicalRecentimprovementsin highfrequencyultrasonic diagnostic technologies and theapplication of ultrasoundguided puncturetechniques have led to an apparent increasein the incidence of PTC year by year3\\x93Regardingthyroidtumors the palpation detection rate forthyroid microtumors in the general population is about  compared with as highas  to  for highfrequency ultrasound6 which has thus greatly improveddisease diagnosisdiagnosistheofSurgical resection is a routine treatmentfor thyroid tumors but the recurrence rateis usually high and the consequent reduction in thyroid function can seriously affectthe patient\\x99s quality of life7 Associatedwith the increasing detection rate of thyroidtumors and the pursuit of minimally invasive treatments radiofrequency ablationRFA has been gradually applied in theclinic RFA uses local hyperthermia tocause tissue necrosis The thermal effectsdo not depend on the tissue type andmost lesions can be completely eliminatedby RFA89 RFA has thus become a novellocal treatment for tumorsThe clinical diagnosis of benign andmalignant thyroid tumors currently dependson the clinical manifestations and pathological examinations Howeverthe clinicalmanifestations are mostly derived frominvolvessubjective empirical analysis while a ï¬\\x81nalpathological diagnosisinvasiveprocedures with lesssatisfactory speciï¬\\x81city It is therefore necessary to identifyappropriatepredictivetumor markersdiagnosticandforimplicationsThe collagenases matrix metalloproteinase MMP2 and MMP9 can degradetype IV collagen in the basement membranewith importanttumorangiogenesis and tumor cell invasion andmetastasis10 MMP2 and MMP9 expression levels were found to be upregulatedin thyroid cancer tissue11 however thesestudies mostly examined pathological tissuesafterinvasive surgery and lessinvasivemeasures such as serum levels of MMP2and MMP9 have been lesswell consideredIn this study we detected serum levels ofMMP2 and MMP9 in patients with PTCbefore and after ultrasoundguided RFAWe also determined the therapeutic effectsof RFA during the followup period andinvestigated the relevant prognostic factorsMaterials and methodsStudy subjectsPatients who underwent ultrasoundguidedRFA in our hospital from May  toOctober  were included in this studyThe inclusion criteria were as follows patients diagnosed by preoperative ï¬\\x81neneedle aspiration cytology  no historyof neck surgery and  patients requiringminimally invasive treatment for aestheticreasons and because of neck oppression 0cPan et alwith anxiety The exclusion criteria were asfollows  benign lesions conï¬\\x81rmed by ï¬\\x81neneedle aspiration cytology  history ofneck surgery and  severe coagulopathyPeripheral venous blood samples wereobtained from the included patients beforeand at    and  months after the operation and serum levels of MMP2 andMMP9 were determined Additional subjects with conï¬\\x81rmed benign thyroid noduleswithout RFA were included as a controlgroup Prior written informed consent wasobtained from all patients and the studywas approved by the ethics review boardof our hospitalPreoperative preparationcalciï¬\\x81cationThe number size nature echo boundarymorphologysurroundinghalo and nodular blood ï¬\\x82ow distributionof the tumors were assessed before the operation After skin disinfection local anesthesia was performed with  lidocainesolution A total of  mL Sonovue Bracco Milan Italy was injected via the elbowvein and the bloodsupply characteristicswere then evaluated by contrastenhancedultrasound CEUS of the ablationtargetedlesions using a Mylab90 ultrasonic devicewith 10MHz probe Esaote ShenzhenGuangdong ChinaAccording to the location of the thyroidnodules the thyroid and carotid space thyroid and tracheal space thyroid and esophageal space and posterior thyroid spacerecurrent laryngeal nerve were separatedusing a saline and lidocaine mixture basedon the intraoperative conditions to form aliquid separation zone to protectthesestructures from thermal damageAblation treatmentUnder ultrasound guidancethe tip ofthe RFA needle rated power  Woutput frequency  kHz was accuratelypenetrated into the nodule and RFA wasperformed using an OlympusCelon PowerRFA System Germany in mobile mode12following the fromdeeptoshallow principle The lesions were subjected to multipointed and multifaceted ablation untilthe thyroid tissue layer with the noduleswas completely covered by the strong echogenerated by heat accumulation The wholeprocess was carried out under continuousultrasound monitoring A highecho areawas produced in the ablation zone duringthe ablation treatment The position of theelectrode needle was gradually adjustedaccording to the lesion size After ensuringthat there was no residual enhancement inthe ablation zone the ablation needle wasremoved and the ablation was completedAfter the operation an ice compress wasapplied for  h to avoid skin burnsSerum MMP determinationFor all subjects  mL venous blood wascollected from the elbow vein under fastingconditions before and after the operationrespectively Blood samples in the controlgroup were collected after ultrasound contrast examination The blood samples wereplaced at room temperature for  minutesand then subjected to centrifugation at 02 g for  minutes The serum washarvested and serum levels of MMP3 andMMP9 were determined using enzymelinked immunosorbentELISAkitsBoster Bioengineering WuhanHubei ChinaassayFollowup and efficacy evaluationImmediately after the operation the ablation range was evaluated by CEUS If residualtissues were detected ablation wasrepeated immediately Ultrasound detectionwas performed at    and  monthsafter surgery to determine the nodule sizesand volumes The volumereduction rate 0cwas calculated according to the followingformula volume reduction rate¼ preoperative volume  followup volumepreoperative volume 02  Echo and bloodï¬\\x82owchanges in the ablation zone were alsoobserved and analyzed The efï¬\\x81cacy wasdetermined based on the criteria for RFAfor treating tumors13 disappearance ofnodules indicated by complete disappearance of blood ï¬\\x82ow conï¬\\x81rmed by ultrasonography indicated complete cure noduleby  15 indicatedvolumemarked effect and nodule volume reducedby  to  indicated improvementreducedClinicopathological featuresInformation on ultrasoundbased clinicopathologicalincluding numbersize and calciï¬\\x81cation of the lesion wereobtainedfeaturesversion Statistical analysisData were expressed as mean 06 standarddeviation Statistical analysis was performed using IBM SPSS StatisticsforWindowsIBM CorpArmonk NY USA Comparisons betweengroups were performed using v2testsPotentially related factors were analyzedby univariate or multivariate logistic regression The prognostic predictive effects ofserum MMP2 and MMP9 levels wereevaluated by receiver operating characteristic ROC curve analysis P   was considered statistically signiï¬\\x81cantResultsPatientsJournal of International Medical Research men mean age  06  years range\\x93 yearsSerum MMP2 and MMP9 levels beforeand after treatmentThe characteristics of the ultrasound images inthe included subjects are shown in Table Serum levels of MMP2 and MMP9 weremeasured before and after treatment Serumlevels of MMP2 and MMP9 were signiï¬\\x81cantly higher in patients with PTC comparedwith the control subjects P   Serumlevels of MMP2 and MMP9 had declinedat  month after the operation comparedwith before surgery but the difference wasnot signiï¬\\x81cant However serum levels ofMMP2 and MMP9 had declined signiï¬\\x81cantly in the PTC patients at   and  monthsall P   Table  These results suggestthat changes in serum MMP2 and MMP9levels between before and after surgery mayhave signiï¬\\x81cant implications for the therapyof PTCROC curve analysis of preoperative serumMMP2 and MMP9 levelsPreoperative serum MMP2 and MMP9levels were used as potential diagnostic indicators In the  patients with PTC the predictive probability from theregressionmodel was used as the diagnostic resultsand the gold standard classiï¬\\x81cation criteriawere used as the pathological results ROCcurves were obtained accordingly The areaundercurve AUC values for serum MMP and MMP9 levels were  and respectively Figure  These results suggestthat serum levels of MMP2 and MMP9could contribute to the disease diagnosisFortyone patients with PTC  lesionswere enrolledincluding  women and men mean age  06  years range to Ã¾65 years The control group included  patients with conï¬\\x81rmed benignthyroid nodules including  women andEvaluation of RFA efficacyWe also evaluated the efï¬\\x81cacy of RFA CEUSof the  lesions before ablation showed hypoenhancement in  nodules isoenhancementin  nodules and slight hyperenhancement 0cPan et alTable  Characteristics of thyroid ultrasound imagesPTC patientsNormal controlLesion numberOneTwoMultipleLesion size 14 cm cmCalcificationMicrocalcificationCoarse calcificationMorphologyRegularIrregularAge years 15 yearsnP   compared with the control groupnTable  Serum matrix metalloproteinase2 and  levels in controls and inpatients with papillary thyroid carcinoma before and after treatmentControlsPTC patientsBefore surgery month after surgery months after surgery months after surgery months after surgeryMMP2 06  06  06  06  06  06 P\\x93MMP9P\\x93 06  06   06  06  06  06  MMP matrix metalloproteinase PTC papillary thyroid carcinomain  nodules Ultrasound examination afterablation showed no contrastagent perfusionin the ablation zone in  lesions and enhancement of different degrees at theedge or inside the lesion in the other lesions  and the ablation area wasgradually reduced with prolonged ablationFigure  There was no signiï¬\\x81cant changein ablation volume in any patients at month after surgery compared with beforesurgery However the volume was reducedby  at  months offollowupcompared with before surgery P  Table  These results showed that RFAtreatmentthetumor volume in patients with PTCcould effectively reduceInfluence of relevant factors on diseaseprognosisTheclinical data of patients beforeRFA were retrospectively analyzed by 0cJournal of International Medical Researchirregularlogistic regression to identify factors thatmay affectthe disease prognosis Agemicrocalciï¬\\x81cationshape anddiameter and number of lesions were significant inï¬\\x82uencing factors for PTC P  The hazard ratios HRsfor age andlesion diameter and number were  indicating that these represented independentrisk factors In contrast the HRs for microcalciï¬\\x81cation and irregular shape were negativeindicating that a greater degree ofcalciï¬\\x81cation and regular shape were associated with lower risks of developing the disease and were thus protective factorsTable Figure  ROC analyses of serum MMP2 andMMP9 levels MMP matrix metalloproteinaseFigure  Efficacy evaluation of radiofrequency ablation a Twodimensional 2D ultrasound showingobvious bloodflow signals around the tumor and fewer signals within the tumor b Preoperative contrastenhanced ultrasound showing no obvious enhancement in the lesion with lowperfusion performance c Inthe 2D imaging localization the ablation needle was inserted into the tumor for ablation d The tumor wascompletely ablated with no bloodflow signal at  year after ablation 0cPan et alDiscussionitis difï¬\\x81cultPTC is a type of thyroid tumor with a highincidence14 which has been increasingrapidly worldwide1516 Mostthyroidtumor cases are currently diagnosed by hiscytological detectiontopathological orHoweverto distinguishbetween benign and malignant papillaryhyperplastic nodules and it is therefore difï¬\\x81cult to diagnose PTC There is also a lackof effective and speciï¬\\x81c prognostic molecular markers for PTC17 The relationshipbetween MMPs and tumors is a currenthotspot of modern cancer research MMPsplay important roles in pathophysiologicalprocesses such as the dynamic extracellularmatrix balance as well as in tissue remodeling and repair10 Tumor cells may inducethe matrix to secrete MMPs via a series ofsignalingprovidingpathwaysthusTable  Volume reductions after radiofrequencyablation of papillary thyroid carcinomasReductionrate Lesionvolumecm3 06  06  06   06   months after surgery  06  P   P   compared with before surgeryBefore surgery month after surgery months after surgery months after surgery\\x93favorable conditions for tumor cell invasionand metastasisalternatingthe extensive surgicalSurgical resection is a traditional methodthyroid nodules18for the treatment ofHowevertraumaunsightly neck scars and risks of laryngealnerve injuries postoperative recurrenceand multiple operations mean that increasing numbers of patients are opting for minimally invasive ablation methods RFA is athermal ablation therapy that uses highfrequencyelectromagneticwaves generated by the radiofrequencyinstrument inserted into the tumor tissueto accumulate heat by rapid friction of positive and negative ions within the cells causing local coagulation in the tumor tissuewhich isthen removed by the body\\x99ssystem19 Reduction ratesimmuneforbenign thyroid nodules of  to after  month of ablation and  to after  months of ablation have beenreported20 In this study ultrasound performed immediately after ablation of lesions showed no perfusion of contrastagents in  lesions and enhancementto varying degrees at the edge or inside thelesion in  of lesions Although therewere no signiï¬\\x81cant changes in lesion volumeat  month after the operation the lesionvolumes were reduced by  to  at months after surgery Considering thatthe ablation effects might be associatedwith the heat and the ablation needle aTable  Logistic regression analysis of relevant risk factors for disease prognosisAgeMicrocalcificationIrregular morphologyLesion diameterLesion numberB  HRHR hazard ratio CI confidence interval95CILower limitUpper limitP 0cJournal of International Medical Researchï¬\\x81ne needle is good for mobile conformalablationthe highfrequency alternatingelectromagnetic wave only circulates in theeffective region between the two needle tipsthus allowing accurate control of the ablation zone The ablation safety zone aroundthe PTC was relatively small in the currentstudy and the nodulereduction rate afterablation was thus relatively greaterWe analyzed the serum levels of MMP2and MMP9 in PTC patients by ELISAPreoperative serum levels of both enzymeswere signiï¬\\x81cantly higher in patients withPTC compared with patients with benigninthyroid nodules Regarding changesserum MMP2 and MMP9 levelstheAUC values based on the ROC curveswere  and  for MMP2 andMMP9 respectively suggesting satisfactory clinical diagnostic and prognostic valuesIn the present study serum levels MMP2and MMP9 were lower in the ï¬\\x81rst monthafter surgery compared with before surgerybut the difference was not signiï¬\\x81cant Thismight be because before ablationthetumor parenchyma induced the tumorstroma to produce larger amounts ofMMP2 and MMP9 which were releasedinto the blood These results suggest thatfailure to completely ablate the tumor ortumor recurrence may result in the secretionof high levels of MMP2 and MMP9 intothe blood However serum levels of MMP and MMP9 were signiï¬\\x81cantly decreasedat   and  months after surgery compared with before surgery suggesting thatserum MMP2 and MMP9 were secretedby the tumor The lesions disappearedafter PTC ablation thus reducing the secretion of MMP2 and MMP9 and therebyreducing the degradation and destructionof type IV collagen protecting the basement membrane of normaltissues andinhibiting the growth and metastasis oftumorresults alsoshowed that age microcalciï¬\\x81cation irregular shape and lesion diameter and numbercells Thecurrentwere risk factors for PTC Logistic regression analysis showed that age  14 yearswas an important risk factor for PTC inline with the ï¬\\x81ndings of Yu et al21Microcalciï¬\\x81cation is caused by the deposition of calcium salts at the tip of the nippleor the secretion of calcium salts by thetumor itself and has been considered tobe the most speciï¬\\x81c sign of PTC In thisstudy the incidence of microcalciï¬\\x81cationwas higher in PTC patients compared withthe control group and logistic regressionidentiï¬\\x81ed it as an independent risk sign forthyroid PTC Our results also identiï¬\\x81edirregular morphology two nodules and anodule diameter  14 cm as danger signs forPTClargely consistent with previousï¬\\x81ndings22This study had some limitations It was asinglecenter study with a relatively smallnumber of cases Moreover the relevantthyroid hormone analysis and other serumindicators could not be followed up for alonger periodtreating PTC FurthermoreIn summary the results of this studyshowed that RFA could shrink or eliminatethyroid lesions thus representing a minimally invasive safe and effective methodforserumlevels of MMP2 and MMP9 before RFAcould provide a valuable reference for thediagnosis of PTC These serological indexes combined with relevant risk factors mayalso help to predict the prognosis of PTCafter ablationAcknowledgementsThis work wasProvincial HealthCommission  Project WJ2017F102supported by the HubeiPlanningand FamilyDeclaration of conflicting interestThe authors declare that there is no conï¬\\x82ict ofinterest 0cPan et alFundingThis research received no speciï¬\\x81c grant from anyfunding agency in the public commercial ornotforproï¬\\x81t sectorsorcid000000026050ORCID iDQian DingReferences Zhang YB Zhang B Yan DG et al[Central compartment reoperation for recurrentpersistent differentiated thyroid cancer]Zhonghua Er Bi Yan Hou Tou Jing Wai KeZa Zhi   \\x93 [in Chinese] Pellegriti G Frasca F Regalbuto C et alWorldwide increasing incidence of thyroidcancer update on epidemiology and risk factors J Cancer Epidemiol   DOI  Brito JP Gionfriddo MR Al Nofal A et alThe accuracy of thyroid nodule ultrasoundto predict thyroid cancer systematic reviewand metaanalysis J Clin Endocrinol Metab  \\x93 DOI 101210jc2013 Zhao P Zheng D Dong X et al Clinicaldiagnosis and treatment of thyroid microcarcinoma a report of  cases Chinese JGene Surg   \\x93 Anil G Hegde A and Chong FH Thyroidnodules risk stratiï¬\\x81cation for malignancywith ultrasound and guided biopsy CancerImaging   \\x93 DOI  Levine RA Current guidelines for the management of thyroid nodules Endocr Pract  \\x93 DOI 104158ep12071co Zhang Y Zhang MB Luo YK et al Effectof chronic lymphocytic thyroiditis on theefï¬\\x81cacy and safety of ultrasoundguidedradiofrequency ablation for papillary thyroid microcarcinoma Cancer Med  \\x93 Liu Y Wang W Wang Y et al Ultrasoundguided percutaneous microwave ablation inthe treatment of recurrent thyroid nodulesJ Clin Otolaryngol Head Neck Surg  \\x93 Weslley Rosario P Franco Mourao GRegina Calsolari M et al Role of adjuvanttherapy with radioactive iodine in patientswith elevated serum thyroglobulin afterneck reoperation due to recurrent papillarythyroid cancer a monoinstitutional comparative study Endocrine   \\x93 Zhang WJ Song B and Yang T MMP2MMP9 TIMP1 and TIMP2 in theperipheral blood of patients with differentiated thyroid carcinoma Cancer Manag Res  \\x93Wu R Luo Y Tang J et al Ultrasoundguidedradiofrequency ablation for papillary thyroidmicrocarcinomaa retrospective analysis of patients Int J Hyperthermia  \\x93 Zhao CK Hu HX Lu F et al Factors associated with initial incomplete ablation forbenign thyroid nodules after radiofrequencyablation First results of CEUS evaluationClin Hemorheol Microcirc   \\x93 Faggiano A Ramundo V Assanti AP et alThyroid nodules treated with percutaneousradiofrequency thermal ablation a comparative study J Clin Endocrinol Metab  \\x93 DOI 101210jc20122251 Tomayko EJ Cachia AJ Chung HR et alResveratrol supplementation reduces aorticatherosclerosis and calciï¬\\x81cation and attenuates loss of aerobic capacity in a mousemodel of uremia J Med Food  \\x93 DOI 101089jmf20120219 Xhaard C Rubino C Clero E et alMenstrual and reproductive factors in therisk of differentiated thyroid carcinoma inyoung women in France a populationbased casecontrol study Am J Epidemiol  \\x93 DOI 101093ajekwu220 Tafani M De Santis E Coppola L et alBridging hypoxia inï¬\\x82ammation and estrogen receptors in thyroid cancer progressionBiomed Pharmacother   \\x93 DOI101016jbiopha201310013 Bumber B Marjanovic Kavanagh MJacovcevic A et al Role of matrix metalloproteinases and their inhibitors in the development of cervical metastases in papillary 0cJournal of International Medical Researchthyroid cancer Clin Otolaryngol  \\x93ofAssociation Gharib H Papini E Paschke R et alAmericanClinicalEndocrinologists Associazione MediciEndocrinologiand European ThyroidAssociation medical guidelines for clinicalpractice for the diagnosis and managementof thyroid nodules executive summary ofrecommendations J Endocrinol Invest  \\x93 Baek JH LeeJH Valcavi Ret alThermal ablation for benign thyroid nodules radiofrequency and laser Korean JRadiol   \\x93 DOI kjr2011125525 Vuong NL Dinh LQ Radiofrequency ablation for benign thyroid nodules 1yearfollowup in  patients World J Surg  \\x93 Lang BHH Woo YC and Chiu KWIdentifying predictive factors for efï¬\\x81cacy inhigh intensity focused ultrasound HIFUablation of benign thyroid nodules  a retrospective analysis Int J Hyperthermia  \\x93 Buryk MA Simons JP Picarsic J et al Canmalignant thyroid nodules be distinguishedfrom benign thyroid nodules in children andadolescents by clinical characteristics Areview of  pediatric patients with thyroidnodules Thyroid   \\x93 0c'\""
      ]
     },
     "execution_count": 103,
     "metadata": {},
     "output_type": "execute_result"
    }
   ],
   "source": [
    "df.iloc[2].a"
   ]
  },
  {
   "cell_type": "code",
   "execution_count": 97,
   "metadata": {},
   "outputs": [
    {
     "ename": "AttributeError",
     "evalue": "'str' object has no attribute 'apply'",
     "output_type": "error",
     "traceback": [
      "\u001b[1;31m---------------------------------------------------------------------------\u001b[0m",
      "\u001b[1;31mAttributeError\u001b[0m                            Traceback (most recent call last)",
      "\u001b[1;32mc:\\Users\\mpasha1\\OneDrive - Insight\\Desktop\\work\\Sementic_karnal\\medium_sementic\\medium_code.ipynb Cell 25\u001b[0m line \u001b[0;36m1\n\u001b[1;32m----> <a href='vscode-notebook-cell:/c%3A/Users/mpasha1/OneDrive%20-%20Insight/Desktop/work/Sementic_karnal/medium_sementic/medium_code.ipynb#X45sZmlsZQ%3D%3D?line=0'>1</a>\u001b[0m k1 \u001b[39m=\u001b[39m df\u001b[39m.\u001b[39;49miloc[\u001b[39m0\u001b[39;49m]\u001b[39m.\u001b[39;49ma\u001b[39m.\u001b[39;49mapply(\u001b[39mlambda\u001b[39;00m x: get_embedding(x, model\u001b[39m=\u001b[39m\u001b[39m\"\u001b[39m\u001b[39membedding\u001b[39m\u001b[39m\"\u001b[39m))\n",
      "\u001b[1;31mAttributeError\u001b[0m: 'str' object has no attribute 'apply'"
     ]
    }
   ],
   "source": [
    "k1 = df.iloc[0].a.apply(lambda x: get_embedding(x, model=\"embedding\"))"
   ]
  },
  {
   "cell_type": "code",
   "execution_count": null,
   "metadata": {},
   "outputs": [],
   "source": [
    "# Define a function to get text embeddings using OpenAI's text-embedding model.\n",
    "def get_embedding(text, model=\"text-embedding-ada-002\"):\n",
    "    # Replace newline characters with spaces in the input text.\n",
    "    text = text.replace(\"\\n\", \" \")\n",
    "    \n",
    "    # Call OpenAI's text-embedding API to obtain embeddings for the input text.\n",
    "    embeddings = openai.Embedding.create(input=[text], engine=model,api_key = os.getenv(\"AZURE_OPENAI_API_KEY\"), api_base = os.getenv(\"AZURE_OPENAI_ENDPOINT\"))\n",
    "    \n",
    "    # Extract the embedding vector from the API response and return it.\n",
    "    embedding_vector = embeddings['data'][0]['embedding']\n",
    "    return embedding_vector\n",
    "\n",
    "# Apply the get_embedding function to each document content in the 'data' DataFrame\n",
    "# and store the resulting embeddings in a new column called 'embedding'.\n",
    "data1[\"embedding\"] = data1.a.apply(lambda x: get_embedding(x, model=embedding_model))"
   ]
  },
  {
   "cell_type": "code",
   "execution_count": null,
   "metadata": {},
   "outputs": [],
   "source": []
  },
  {
   "cell_type": "code",
   "execution_count": 26,
   "metadata": {},
   "outputs": [
    {
     "data": {
      "text/plain": [
       "1536"
      ]
     },
     "execution_count": 26,
     "metadata": {},
     "output_type": "execute_result"
    }
   ],
   "source": [
    "len(g)"
   ]
  },
  {
   "cell_type": "code",
   "execution_count": null,
   "metadata": {},
   "outputs": [],
   "source": []
  },
  {
   "cell_type": "markdown",
   "metadata": {},
   "source": [
    "# Data read from index in sementic kernal"
   ]
  },
  {
   "cell_type": "code",
   "execution_count": 164,
   "metadata": {},
   "outputs": [],
   "source": [
    "# Open AI Key\n",
    "openai.api_type = \"azure\"\n",
    "openai.api_base = os.getenv(\"AZURE_OPENAI_ENDPOINT\")\n",
    "openai.api_version = \"2023-07-01-preview\"\n",
    "openai.api_key = os.getenv(\"AZURE_OPENAI_API_KEY\")\n",
    "\n",
    "\n",
    "# embedding model\n",
    "embedding_model = os.getenv(\"AZURE_OPENAI_EMBEDDING\")\n",
    "\n",
    "# ref: https://learn.microsoft.com/en-us/azure/search/search-security-api-keys?tabs=portal-use%2Cportal-find%2Cportal-query\n",
    "service_endpoint = os.getenv(\"AZURE_SEARCH_ENDPOINT\")\n",
    "key = \"ICyDmM0S3sWaLpYwNGPfUOz7jblRyOHnE6p7uDHPRRAzSeAaLBFM\"\n",
    "index_name = \"disease-test-index-001\"\n",
    "credential = AzureKeyCredential(key)"
   ]
  },
  {
   "cell_type": "code",
   "execution_count": 165,
   "metadata": {},
   "outputs": [],
   "source": [
    "# Define a function to get text embeddings using OpenAI's text-embedding model.\n",
    "def get_embedding(text, model=\"embedding\"):\n",
    "    # Replace newline characters with spaces in the input text.\n",
    "    text = text.replace(\"\\n\", \" \")\n",
    "    \n",
    "    # Call OpenAI's text-embedding API to obtain embeddings for the input text.\n",
    "    embeddings = openai.Embedding.create(input=[text], engine=model,api_key = os.getenv(\"AZURE_OPENAI_API_KEY\"), api_base = os.getenv(\"AZURE_OPENAI_ENDPOINT\"))\n",
    "    \n",
    "    # Extract the embedding vector from the API response and return it.\n",
    "    embedding_vector = embeddings['data'][0]['embedding']\n",
    "    return embedding_vector"
   ]
  },
  {
   "cell_type": "code",
   "execution_count": 166,
   "metadata": {},
   "outputs": [],
   "source": [
    "def do_vector_search(query):\n",
    "    # Initialize the search client with the appropriate service endpoint, index name, and credentials\n",
    "    search_client = SearchClient(service_endpoint, index_name, credential=credential)\n",
    "\n",
    "    # Get the vector representation of the query using the 'get_embedding' function\n",
    "    vector = Vector(value=get_embedding(query), k=3, fields=\"content_vector\")\n",
    "\n",
    "    # Perform a vector search with the specified vector and retrieve relevant fields\n",
    "    results = search_client.search(\n",
    "        search_text=None,\n",
    "        vectors=[vector],\n",
    "        select=[\"content\", \"metadata\"],\n",
    "        top=1\n",
    "    )\n",
    "\n",
    "    # Iterate through the search results and return the id and actualContent of the first result\n",
    "    # You can also check the @score returned, and decide the threshold for the match\n",
    "    # Vector match score is bounded between -1 to +1\n",
    "    for result in results:\n",
    "        return result['metadata'], result['content']"
   ]
  },
  {
   "cell_type": "code",
   "execution_count": 167,
   "metadata": {},
   "outputs": [],
   "source": [
    "import os\n",
    "\n",
    "OPENAI_ENDPOINT = os.getenv(\"AZURE_OPENAI_ENDPOINT\")\n",
    "OPENAI_DEPLOYMENT_NAME = os.getenv(\"AZURE_OPENAI_DEPLOYMENT_NAME\")\n",
    "OPENAI_API_KEY = os.getenv(\"AZURE_OPENAI_API_KEY\")"
   ]
  },
  {
   "cell_type": "code",
   "execution_count": 175,
   "metadata": {},
   "outputs": [],
   "source": [
    "# for Azure Openai in sementic kernal\n",
    "\n",
    "\n",
    "import semantic_kernel as sk\n",
    "import semantic_kernel.connectors.ai.open_ai as sk_oai\n",
    "from semantic_kernel.utils.settings import azure_openai_settings_from_dot_env_as_dict\n",
    "\n",
    "sk_prompt = \"\"\"\n",
    "ChatBot can only answer questions from the information it has from this {{$document}}.\n",
    "It can give explicit instructions or say 'I don't know'\n",
    "when it doesn't know the answer.\n",
    "\n",
    "User:> {{$user_input}}\n",
    "ChatBot:>\n",
    "\"\"\"\n",
    "\n",
    "kernel = sk.Kernel()\n",
    "\n",
    "kernel.add_chat_service(\n",
    "    \"chat-gpt\",\n",
    "    sk_oai.AzureChatCompletion(\n",
    "        **azure_openai_settings_from_dot_env_as_dict(include_api_version=True)\n",
    "    ),\n",
    ")\n",
    "\n",
    "prompt_config = sk.PromptTemplateConfig.from_completion_parameters(\n",
    "    max_tokens=4000, temperature=0.0, top_p=0.8\n",
    ")\n",
    "\n",
    "prompt_template = sk.ChatPromptTemplate(\n",
    "    sk_prompt , kernel.prompt_template_engine, prompt_config\n",
    ")\n",
    "\n",
    "\n",
    "function_config = sk.SemanticFunctionConfig(prompt_config, prompt_template)\n",
    "chat_function = kernel.register_semantic_function(\"ChatBot\", \"Chat\", function_config)\n",
    "\n",
    "\n"
   ]
  },
  {
   "cell_type": "code",
   "execution_count": 174,
   "metadata": {},
   "outputs": [],
   "source": [
    "# # Reference: https://github.com/microsoft/semantic-kernel/blob/main/python/samples/kernel-syntax-examples/chat.py\n",
    "\n",
    "# import semantic_kernel as sk\n",
    "# import semantic_kernel.connectors.ai.open_ai as sk_oai\n",
    "# import semantic_kernel.connectors.ai.open_ai as AzureChatCompletion\n",
    "\n",
    "# sk_prompt = \"\"\"\n",
    "# ChatBot can only answer questions from the information it has from this {{$document}}.\n",
    "# It can give explicit instructions or say 'I don't know'\n",
    "# when it doesn't know the answer.\n",
    "\n",
    "# User:> {{$user_input}}\n",
    "# ChatBot:>\n",
    "# \"\"\"\n",
    "\n",
    "# kernel = sk.Kernel()\n",
    "\n",
    "# kernel.add_chat_service(\n",
    "#     \"chat-gpt\", sk_oai.OpenAIChatCompletion(\"gpt-3.5-turbo\", endpoint= \"https://nain-trail.openai.azure.com/\", api_key =\"3f283de069f64ee2af527f11fdecca59\", org_id =\"gpt-35-turbo-new\", api_version = \"2023-07-01-preview\", api_type = \"azure\" )\n",
    "# )\n",
    "\n",
    "# # kernel.add_chat_service(\"chat_completion\", AzureChatCompletion(OPENAI_DEPLOYMENT_NAME, OPENAI_ENDPOINT, OPENAI_API_KEY))\n",
    "\n",
    "# prompt_config = sk.PromptTemplateConfig.from_completion_parameters(\n",
    "#     max_tokens=2000, temperature=0.7, top_p=0.4\n",
    "# )\n",
    "\n",
    "# prompt_template = sk.PromptTemplate(\n",
    "#     sk_prompt, kernel.prompt_template_engine, prompt_config\n",
    "# )\n",
    "\n",
    "# function_config = sk.SemanticFunctionConfig(prompt_config, prompt_template)\n",
    "# chat_function = kernel.register_semantic_function(\"ChatBot\", \"Chat\", function_config)"
   ]
  },
  {
   "cell_type": "code",
   "execution_count": 176,
   "metadata": {},
   "outputs": [],
   "source": [
    "# Define an asynchronous function to get an answer from the ChatBot\n",
    "async def get_answer(input, context_vars: sk.ContextVariables) -> bool:\n",
    "    # Set the user's input in the context variables\n",
    "    context_vars[\"user_input\"] = input\n",
    "\n",
    "    # Perform a vector search to find relevant content\n",
    "    metadata, content = do_vector_search(input)\n",
    "\n",
    "    # Set the found content as the document in context variables\n",
    "    context_vars[\"document\"] = content\n",
    "\n",
    "    # Use the kernel to asynchronously run the chat function and get an answer\n",
    "    answer = await kernel.run_async(chat_function, input_vars=context_vars)\n",
    "\n",
    "    # Print the ChatBot's response and the source ID\n",
    "    print(f\"ChatBot:> {answer}. \")\n",
    "    print(f\"Source {metadata}\")\n",
    "\n",
    "    # Return True to indicate successful completion\n",
    "    return True\n",
    "\n",
    "# Define an asynchronous chat function\n",
    "async def chat(input) -> None:\n",
    "    # Create a context with variables for the conversation\n",
    "    context = sk.ContextVariables()\n",
    "\n",
    "    # Call the get_answer function to interact with the ChatBot\n",
    "    await get_answer(input, context)"
   ]
  },
  {
   "cell_type": "code",
   "execution_count": 170,
   "metadata": {},
   "outputs": [
    {
     "name": "stdout",
     "output_type": "stream",
     "text": [
      "ChatBot:> Anal cancer is a disease in which malignant (cancer) cells form in the tissues of the anus. The anus is the end of the large intestine, below the rectum, through which stool (solid waste) leaves the body.. \n",
      "Source {\"source\": \"Disease_Text\\\\Anal_Cancer_Prevention_USA.txt\"}\n"
     ]
    }
   ],
   "source": [
    "await chat(\"what is anl cancer?\")"
   ]
  },
  {
   "cell_type": "code",
   "execution_count": 177,
   "metadata": {},
   "outputs": [
    {
     "name": "stdout",
     "output_type": "stream",
     "text": [
      "ChatBot:> The Bookshelf ID of the Skin Cancer Screening document is NBK65739.. \n",
      "Source {\"source\": \"Disease_Text\\\\Skin_Cancer_Screening_USA.txt\"}\n"
     ]
    }
   ],
   "source": [
    "await chat(\"What is the Bookshelf ID of Skin Cancer Screening document ?\")"
   ]
  },
  {
   "cell_type": "code",
   "execution_count": 178,
   "metadata": {},
   "outputs": [
    {
     "name": "stdout",
     "output_type": "stream",
     "text": [
      "ChatBot:> The writers of Diseases of the Chest Wall, Pleura, and Diaphragm are Aine M. Kelly and Thomas Frauenfelder.. \n",
      "Source {\"source\": \"Disease_Text\\\\Diseases_of_the_Chest_Wall_Pleura_and_Diaphragm_USA.txt\"}\n"
     ]
    }
   ],
   "source": [
    "await chat(\"Who is the writer of Diseases of the Chest Wall, Pleura, and Diaphragm ?\")"
   ]
  },
  {
   "cell_type": "code",
   "execution_count": 179,
   "metadata": {},
   "outputs": [
    {
     "name": "stdout",
     "output_type": "stream",
     "text": [
      "ChatBot:> Tests that may detect (find) endometrial cancer are being studied and include Pap test, transvaginal ultrasound, and endometrial sampling. However, there is currently no standard or routine screening test for endometrial cancer.. \n",
      "Source {\"source\": \"Disease_Text\\\\Endometrial_Cancer_Screening_USA.txt\"}\n"
     ]
    }
   ],
   "source": [
    "\n",
    "await chat(\"Which tests may detect Endometrial Cancer?\")"
   ]
  },
  {
   "cell_type": "code",
   "execution_count": null,
   "metadata": {},
   "outputs": [],
   "source": []
  },
  {
   "cell_type": "code",
   "execution_count": null,
   "metadata": {},
   "outputs": [],
   "source": []
  },
  {
   "cell_type": "code",
   "execution_count": null,
   "metadata": {},
   "outputs": [],
   "source": []
  },
  {
   "cell_type": "code",
   "execution_count": null,
   "metadata": {},
   "outputs": [],
   "source": []
  },
  {
   "cell_type": "code",
   "execution_count": null,
   "metadata": {},
   "outputs": [],
   "source": []
  },
  {
   "cell_type": "code",
   "execution_count": null,
   "metadata": {},
   "outputs": [],
   "source": []
  },
  {
   "cell_type": "code",
   "execution_count": null,
   "metadata": {},
   "outputs": [],
   "source": []
  },
  {
   "cell_type": "code",
   "execution_count": 8,
   "metadata": {},
   "outputs": [],
   "source": [
    "import os\n",
    "\n",
    "import semantic_kernel as sk\n",
    "from semantic_kernel import ContextVariables, Kernel # Context to store variables and Kernel to interact with the kernel\n",
    "from semantic_kernel.connectors.ai.open_ai import AzureChatCompletion, OpenAIChatCompletion # AI services\n",
    "from semantic_kernel.planning.sequential_planner import SequentialPlanner # Planner"
   ]
  },
  {
   "cell_type": "code",
   "execution_count": 9,
   "metadata": {},
   "outputs": [],
   "source": [
    "kernel7 = sk.Kernel() "
   ]
  },
  {
   "cell_type": "code",
   "execution_count": 10,
   "metadata": {},
   "outputs": [],
   "source": [
    "OPENAI_ENDPOINT = os.getenv(\"AZURE_OPENAI_ENDPOINT\")\n",
    "OPENAI_DEPLOYMENT_NAME = os.getenv(\"AZURE_OPENAI_DEPLOYMENT_NAME\")\n",
    "OPENAI_API_KEY = os.getenv(\"AZURE_OPENAI_API_KEY\")"
   ]
  },
  {
   "cell_type": "code",
   "execution_count": 13,
   "metadata": {},
   "outputs": [],
   "source": [
    "hh= kernel7.add_chat_service(\"chat_completion\", AzureChatCompletion(OPENAI_DEPLOYMENT_NAME, OPENAI_ENDPOINT, OPENAI_API_KEY))"
   ]
  },
  {
   "cell_type": "code",
   "execution_count": 14,
   "metadata": {},
   "outputs": [
    {
     "ename": "TypeError",
     "evalue": "'Kernel' object is not callable",
     "output_type": "error",
     "traceback": [
      "\u001b[1;31m---------------------------------------------------------------------------\u001b[0m",
      "\u001b[1;31mTypeError\u001b[0m                                 Traceback (most recent call last)",
      "\u001b[1;32mc:\\Users\\mpasha1\\OneDrive - Insight\\Desktop\\work\\Sementic_karnal\\medium_sementic\\medium_code.ipynb Cell 18\u001b[0m line \u001b[0;36m1\n\u001b[1;32m----> <a href='vscode-notebook-cell:/c%3A/Users/mpasha1/OneDrive%20-%20Insight/Desktop/work/Sementic_karnal/medium_sementic/medium_code.ipynb#X12sZmlsZQ%3D%3D?line=0'>1</a>\u001b[0m hh(\u001b[39m\"\u001b[39;49m\u001b[39mwhat is the capital of india\u001b[39;49m\u001b[39m\"\u001b[39;49m)\n",
      "\u001b[1;31mTypeError\u001b[0m: 'Kernel' object is not callable"
     ]
    }
   ],
   "source": [
    "hh(\"what is the capital of india\")"
   ]
  }
 ],
 "metadata": {
  "kernelspec": {
   "display_name": "base",
   "language": "python",
   "name": "python3"
  },
  "language_info": {
   "codemirror_mode": {
    "name": "ipython",
    "version": 3
   },
   "file_extension": ".py",
   "mimetype": "text/x-python",
   "name": "python",
   "nbconvert_exporter": "python",
   "pygments_lexer": "ipython3",
   "version": "3.10.9"
  }
 },
 "nbformat": 4,
 "nbformat_minor": 2
}
